{
 "cells": [
  {
   "cell_type": "markdown",
   "metadata": {},
   "source": [
    "# Predicting sentiment from product reviews\n",
    "\n",
    "\n",
    "The goal of this notebook is to implement logistic regression and feature engineering for predicting product review sentiment using the Amazon Reviews dataset.\n",
    "\n",
    "* Feature engineering\n",
    "* Train a logistic regression model to predict the sentiment of product reviews.\n",
    "* Inspect the coefficients of the logistic regression model and interpret their meanings.\n",
    "* Make a prediction (both class and probability) of sentiment for a new product review.\n",
    "* Evaluate LG models using accuracy, precision, recall, and ROC Curves.\n",
    "\n",
    "Let's get started!"
   ]
  },
  {
   "cell_type": "code",
   "execution_count": 231,
   "metadata": {},
   "outputs": [],
   "source": [
    "import pandas as pd\n",
    "import numpy as np"
   ]
  },
  {
   "cell_type": "markdown",
   "metadata": {},
   "source": [
    "# Data preparation\n",
    "\n",
    "We will use a dataset consisting of Amazon.com product reviews."
   ]
  },
  {
   "cell_type": "code",
   "execution_count": 232,
   "metadata": {},
   "outputs": [],
   "source": [
    "products = pd.read_csv('../datasets/Amazon Product Reviews I.csv')"
   ]
  },
  {
   "cell_type": "code",
   "execution_count": 233,
   "metadata": {},
   "outputs": [
    {
     "name": "stdout",
     "output_type": "stream",
     "text": [
      "                     id       asins   brand                  categories  \\\n",
      "0  AVpe7AsMilAPnD_xQ78G  B00QJDU3KY  Amazon  Amazon Devices,mazon.co.uk   \n",
      "1  AVpe7AsMilAPnD_xQ78G  B00QJDU3KY  Amazon  Amazon Devices,mazon.co.uk   \n",
      "2  AVpe7AsMilAPnD_xQ78G  B00QJDU3KY  Amazon  Amazon Devices,mazon.co.uk   \n",
      "3  AVpe7AsMilAPnD_xQ78G  B00QJDU3KY  Amazon  Amazon Devices,mazon.co.uk   \n",
      "4  AVpe7AsMilAPnD_xQ78G  B00QJDU3KY  Amazon  Amazon Devices,mazon.co.uk   \n",
      "\n",
      "  colors             dateAdded           dateUpdated  \\\n",
      "0    NaN  2016-03-08T20:21:53Z  2017-07-18T23:52:58Z   \n",
      "1    NaN  2016-03-08T20:21:53Z  2017-07-18T23:52:58Z   \n",
      "2    NaN  2016-03-08T20:21:53Z  2017-07-18T23:52:58Z   \n",
      "3    NaN  2016-03-08T20:21:53Z  2017-07-18T23:52:58Z   \n",
      "4    NaN  2016-03-08T20:21:53Z  2017-07-18T23:52:58Z   \n",
      "\n",
      "                  dimension  ean                         keys  ...  \\\n",
      "0  169 mm x 117 mm x 9.1 mm  NaN  kindlepaperwhite/b00qjdu3ky  ...   \n",
      "1  169 mm x 117 mm x 9.1 mm  NaN  kindlepaperwhite/b00qjdu3ky  ...   \n",
      "2  169 mm x 117 mm x 9.1 mm  NaN  kindlepaperwhite/b00qjdu3ky  ...   \n",
      "3  169 mm x 117 mm x 9.1 mm  NaN  kindlepaperwhite/b00qjdu3ky  ...   \n",
      "4  169 mm x 117 mm x 9.1 mm  NaN  kindlepaperwhite/b00qjdu3ky  ...   \n",
      "\n",
      "  reviews.rating                                 reviews.sourceURLs  \\\n",
      "0            5.0  https://www.amazon.com/Kindle-Paperwhite-High-...   \n",
      "1            5.0  https://www.amazon.com/Kindle-Paperwhite-High-...   \n",
      "2            4.0  https://www.amazon.com/Kindle-Paperwhite-High-...   \n",
      "3            5.0  https://www.amazon.com/Kindle-Paperwhite-High-...   \n",
      "4            5.0  https://www.amazon.com/Kindle-Paperwhite-High-...   \n",
      "\n",
      "                                        reviews.text  \\\n",
      "0  I initially had trouble deciding between the p...   \n",
      "1  Allow me to preface this with a little history...   \n",
      "2  I am enjoying it so far. Great for reading. Ha...   \n",
      "3  I bought one of the first Paperwhites and have...   \n",
      "4  I have to say upfront - I don't like coroporat...   \n",
      "\n",
      "                                reviews.title reviews.userCity  \\\n",
      "0              Paperwhite voyage, no regrets!              NaN   \n",
      "1           One Simply Could Not Ask For More              NaN   \n",
      "2  Great for those that just want an e-reader              NaN   \n",
      "3                    Love / Hate relationship              NaN   \n",
      "4                                   I LOVE IT              NaN   \n",
      "\n",
      "  reviews.userProvince    reviews.username  sizes upc     weight  \n",
      "0                  NaN          Cristina M    NaN NaN  205 grams  \n",
      "1                  NaN               Ricky    NaN NaN  205 grams  \n",
      "2                  NaN       Tedd Gardiner    NaN NaN  205 grams  \n",
      "3                  NaN              Dougal    NaN NaN  205 grams  \n",
      "4                  NaN  Miljan David Tanic    NaN NaN  205 grams  \n",
      "\n",
      "[5 rows x 27 columns]\n"
     ]
    }
   ],
   "source": [
    "print(products.head())"
   ]
  },
  {
   "cell_type": "code",
   "execution_count": null,
   "metadata": {},
   "outputs": [],
   "source": []
  },
  {
   "cell_type": "code",
   "execution_count": 234,
   "metadata": {},
   "outputs": [
    {
     "name": "stdout",
     "output_type": "stream",
     "text": [
      "['Alexa Voice Remote for Amazon Echo and Echo Dot'\n",
      " 'Alexa Voice Remote for Amazon Fire TV and Fire TV Stick'\n",
      " 'All-New Amazon Fire 7 Tablet Case (7th Generation'\n",
      " 'All-New Amazon Fire HD 8 Tablet Case (7th Generation'\n",
      " 'All-New Amazon Fire TV Game Controller'\n",
      " 'All-New Amazon Kid-Proof Case for Amazon Fire 7 Tablet (7th Generation'\n",
      " 'All-New Amazon Kid-Proof Case for Amazon Fire HD 8 Tablet (7th Generation'\n",
      " 'All-New Fire 7 Kids Edition Tablet' 'All-New Fire 7 Tablet with Alexa'\n",
      " 'All-New Fire HD 8 Kids Edition Tablet']\n"
     ]
    }
   ],
   "source": [
    "name=np.unique(products['name'])\n",
    "print(name[0:10])"
   ]
  },
  {
   "cell_type": "markdown",
   "metadata": {},
   "source": [
    "Now, let us see a preview of what the dataset looks like."
   ]
  },
  {
   "cell_type": "code",
   "execution_count": 235,
   "metadata": {},
   "outputs": [
    {
     "name": "stdout",
     "output_type": "stream",
     "text": [
      "                                             reviews  rating  \\\n",
      "0  I initially had trouble deciding between the p...     5.0   \n",
      "1  Allow me to preface this with a little history...     5.0   \n",
      "2  I am enjoying it so far. Great for reading. Ha...     4.0   \n",
      "3  I bought one of the first Paperwhites and have...     5.0   \n",
      "4  I have to say upfront - I don't like coroporat...     5.0   \n",
      "\n",
      "                                        title  \n",
      "0              Paperwhite voyage, no regrets!  \n",
      "1           One Simply Could Not Ask For More  \n",
      "2  Great for those that just want an e-reader  \n",
      "3                    Love / Hate relationship  \n",
      "4                                   I LOVE IT  \n"
     ]
    }
   ],
   "source": [
    "# Simplify relevant columns names\n",
    "if('reviews.rating' in products.columns):\n",
    "    products['rating']=products['reviews.rating']\n",
    "    products.drop(['reviews.rating'],axis=1, inplace=True)\n",
    "\n",
    "if('reviews.text' in products.columns):\n",
    "    products['reviews']=products['reviews.text']\n",
    "    products.drop(['reviews.text'],axis=1, inplace=True)\n",
    "    \n",
    "if('reviews.title' in products.columns):\n",
    "    products['title']=products['reviews.title']\n",
    "    products.drop(['reviews.title'],axis=1, inplace=True)\n",
    "\n",
    "# Drop irrelevant columns\n",
    "relevant_cols=['reviews','rating','title']\n",
    "products = products.loc[:, relevant_cols]\n",
    "\n",
    "# Drop Nana\n",
    "products.dropna(subset=['rating', 'reviews','title'], inplace=True)\n",
    "products.reset_index(drop=True, inplace=True)\n",
    "\n",
    "print(products.head())"
   ]
  },
  {
   "cell_type": "markdown",
   "metadata": {},
   "source": [
    "Let us explore a specific example of a Amazon product."
   ]
  },
  {
   "cell_type": "code",
   "execution_count": 236,
   "metadata": {},
   "outputs": [
    {
     "name": "stdout",
     "output_type": "stream",
     "text": [
      "I can read a lot longer without pain in my hands since the cover holds it for me. Very nice shade of blue.\n"
     ]
    }
   ],
   "source": [
    "print(products['reviews'][269])"
   ]
  },
  {
   "cell_type": "markdown",
   "metadata": {},
   "source": [
    "## Build the word count vector for each review"
   ]
  },
  {
   "cell_type": "markdown",
   "metadata": {},
   "source": [
    "Now, we will perform 2 simple data transformations:\n",
    "\n",
    "1. Remove punctuation using [Python's built-in](https://docs.python.org/2/library/string.html) string functionality.\n",
    "2. Transform the reviews into word-counts.\n",
    "\n",
    "**Aside**. In this notebook, we remove all punctuations for the sake of simplicity. A smarter approach to punctuations would preserve phrases such as \"I'd\", \"would've\", \"hadn't\" and so forth. See [this page](https://neptune.ai/blog/tokenization-in-nlp) for an example of smart handling of punctuations."
   ]
  },
  {
   "cell_type": "code",
   "execution_count": 237,
   "metadata": {},
   "outputs": [
    {
     "name": "stdout",
     "output_type": "stream",
     "text": [
      "0       I initially had trouble deciding between the p...\n",
      "1       Allow me to preface this with a little history...\n",
      "2       I am enjoying it so far Great for reading Had ...\n",
      "3       I bought one of the first Paperwhites and have...\n",
      "4       I have to say upfront  I dont like coroporate ...\n",
      "                              ...                        \n",
      "1172    This is not the same remote that I got for my ...\n",
      "1173    I have had to change the batteries in this rem...\n",
      "1174    Remote did not activate nor did it connect to ...\n",
      "1175    It does the job but is super over priced I fee...\n",
      "1176    I ordered this item to replace the one that no...\n",
      "Name: reviews, Length: 1177, dtype: object\n"
     ]
    }
   ],
   "source": [
    "import string \n",
    "def remove_punctuation(text):\n",
    "    try: # python 2.x\n",
    "        text = text.translate(None, string.punctuation) \n",
    "    except: # python 3.x\n",
    "        translator = text.maketrans('', '', string.punctuation)\n",
    "        text = text.translate(translator)\n",
    "    return text\n",
    "\n",
    "products['reviews'] = products['reviews'].apply(remove_punctuation)\n",
    "print(products['reviews'])"
   ]
  },
  {
   "cell_type": "code",
   "execution_count": 238,
   "metadata": {},
   "outputs": [
    {
     "name": "stdout",
     "output_type": "stream",
     "text": [
      "['x', 'y', 'your', 'yours', 'yourself', 'yourselves', 'you', 'yond', 'yonder', 'yon', 'ye', 'yet', 'z', 'zillion', 'j', 'u', 'umpteen', 'usually', 'us', 'username', 'uponed', 'upons', 'uponing', 'upon', 'ups', 'upping', 'upped', 'up', 'unto', 'until', 'unless', 'unlike', 'unliker', 'unlikest', 'under', 'underneath', 'use', 'used', 'usedest', 'r', 'rath', 'rather', 'rathest', 'rathe', 're', 'relate', 'related', 'relatively', 'regarding', 'really', 'res', 'respecting', 'respectively', 'q', 'quite', 'que', 'qua', 'n', 'neither', 'neaths', 'neath', 'nethe', 'nethermost', 'necessary', 'necessariest', 'necessarier', 'never', 'nevertheless', 'nigh', 'nighest', 'nigher', 'nine', 'noone', 'nobody', 'nobodies', 'nowhere', 'nowheres', 'no', 'noes', 'nor', 'nos', 'no-one', 'none', 'not', 'notwithstanding', 'nothings', 'nothing', 'nathless', 'natheless', 't', 'ten', 'tills', 'till', 'tilled', 'tilling', 'to', 'towards', 'toward', 'towardest', 'towarder', 'together', 'too', 'thy', 'thyself', 'thus', 'than', 'that', 'those', 'thou', 'though', 'thous', 'thouses', 'thoroughest', 'thorougher', 'thorough', 'thoroughly', 'thru', 'thruer', 'thruest', 'thro', 'through', 'throughout', 'throughest', 'througher', 'thine', 'this', 'thises', 'they', 'thee', 'the', 'then', 'thence', 'thenest', 'thener', 'them', 'themselves', 'these', 'therer', 'there', 'thereby', 'therest', 'thereafter', 'therein', 'thereupon', 'therefore', 'their', 'theirs', 'thing', 'things', 'three', 'two', 'o', 'oh', 'owt', 'owning', 'owned', 'own', 'owns', 'others', 'other', 'otherwise', 'otherwisest', 'otherwiser', 'of', 'often', 'oftener', 'oftenest', 'off', 'offs', 'offest', 'one', 'ought', 'oughts', 'our', 'ours', 'ourselves', 'ourself', 'out', 'outest', 'outed', 'outwith', 'outs', 'outside', 'over', 'overallest', 'overaller', 'overalls', 'overall', 'overs', 'or', 'orer', 'orest', 'on', 'oneself', 'onest', 'ons', 'onto', 'a', 'atween', 'at', 'athwart', 'atop', 'afore', 'afterward', 'afterwards', 'after', 'afterest', 'afterer', 'ain', 'an', 'any', 'anything', 'anybody', 'anyone', 'anyhow', 'anywhere', 'anent', 'anear', 'and', 'andor', 'another', 'around', 'ares', 'are', 'aest', 'aer', 'against', 'again', 'accordingly', 'abaft', 'abafter', 'abaftest', 'abovest', 'above', 'abover', 'abouter', 'aboutest', 'about', 'aid', 'amidst', 'amid', 'among', 'amongst', 'apartest', 'aparter', 'apart', 'appeared', 'appears', 'appear', 'appearing', 'appropriating', 'appropriate', 'appropriatest', 'appropriates', 'appropriater', 'appropriated', 'already', 'always', 'also', 'along', 'alongside', 'although', 'almost', 'all', 'allest', 'aller', 'allyou', 'alls', 'albeit', 'awfully', 'as', 'aside', 'asides', 'aslant', 'ases', 'astrider', 'astride', 'astridest', 'astraddlest', 'astraddler', 'astraddle', 'availablest', 'availabler', 'available', 'aughts', 'aught', 'vs', 'v', 'variousest', 'variouser', 'various', 'via', 'vis-a-vis', 'vis-a-viser', 'vis-a-visest', 'viz', 'very', 'veriest', 'verier', 'versus', 'k', 'g', 'go', 'gone', 'good', 'got', 'gotta', 'gotten', 'get', 'gets', 'getting', 'b', 'by', 'byandby', 'by-and-by', 'bist', 'both', 'but', 'buts', 'be', 'beyond', 'because', 'became', 'becomes', 'become', 'becoming', 'becomings', 'becominger', 'becomingest', 'behind', 'behinds', 'before', 'beforehand', 'beforehandest', 'beforehander', 'bettered', 'betters', 'better', 'bettering', 'betwixt', 'between', 'beneath', 'been', 'below', 'besides', 'beside', 'm', 'my', 'myself', 'mucher', 'muchest', 'much', 'must', 'musts', 'musths', 'musth', 'main', 'make', 'mayest', 'many', 'mauger', 'maugre', 'me', 'meanwhiles', 'meanwhile', 'mostly', 'most', 'moreover', 'more', 'might', 'mights', 'midst', 'midsts', 'h', 'huh', 'humph', 'he', 'hers', 'herself', 'her', 'hereby', 'herein', 'hereafters', 'hereafter', 'hereupon', 'hence', 'hadst', 'had', 'having', 'haves', 'have', 'has', 'hast', 'hardly', 'hae', 'hath', 'him', 'himself', 'hither', 'hitherest', 'hitherer', 'his', 'how-do-you-do', 'however', 'how', 'howbeit', 'howdoyoudo', 'hoos', 'hoo', 'w', 'woulded', 'woulding', 'would', 'woulds', 'was', 'wast', 'we', 'wert', 'were', 'with', 'withal', 'without', 'within', 'why', 'what', 'whatever', 'whateverer', 'whateverest', 'whatsoeverer', 'whatsoeverest', 'whatsoever', 'whence', 'whencesoever', 'whenever', 'whensoever', 'when', 'whenas', 'whether', 'wheen', 'whereto', 'whereupon', 'wherever', 'whereon', 'whereof', 'where', 'whereby', 'wherewithal', 'wherewith', 'whereinto', 'wherein', 'whereafter', 'whereas', 'wheresoever', 'wherefrom', 'which', 'whichever', 'whichsoever', 'whilst', 'while', 'whiles', 'whithersoever', 'whither', 'whoever', 'whosoever', 'whoso', 'whose', 'whomever', 's', 'syne', 'syn', 'shalling', 'shall', 'shalled', 'shalls', 'shoulding', 'should', 'shoulded', 'shoulds', 'she', 'sayyid', 'sayid', 'said', 'saider', 'saidest', 'same', 'samest', 'sames', 'samer', 'saved', 'sans', 'sanses', 'sanserifs', 'sanserif', 'so', 'soer', 'soest', 'sobeit', 'someone', 'somebody', 'somehow', 'some', 'somewhere', 'somewhat', 'something', 'sometimest', 'sometimes', 'sometimer', 'sometime', 'several', 'severaler', 'severalest', 'serious', 'seriousest', 'seriouser', 'senza', 'send', 'sent', 'seem', 'seems', 'seemed', 'seemingest', 'seeminger', 'seemings', 'seven', 'summat', 'sups', 'sup', 'supping', 'supped', 'such', 'since', 'sine', 'sines', 'sith', 'six', 'stop', 'stopped', 'p', 'plaintiff', 'plenty', 'plenties', 'please', 'pleased', 'pleases', 'per', 'perhaps', 'particulars', 'particularly', 'particular', 'particularest', 'particularer', 'pro', 'providing', 'provides', 'provided', 'provide', 'probably', 'l', 'layabout', 'layabouts', 'latter', 'latterest', 'latterer', 'latterly', 'latters', 'lots', 'lotting', 'lotted', 'lot', 'lest', 'less', 'ie', 'ifs', 'if', 'i', 'info', 'information', 'itself', 'its', 'it', 'is', 'idem', 'idemer', 'idemest', 'immediate', 'immediately', 'immediatest', 'immediater', 'in', 'inwards', 'inwardest', 'inwarder', 'inward', 'inasmuch', 'into', 'instead', 'insofar', 'indicates', 'indicated', 'indicate', 'indicating', 'indeed', 'inc', 'f', 'fact', 'facts', 'fs', 'figupon', 'figupons', 'figuponing', 'figuponed', 'few', 'fewer', 'fewest', 'frae', 'from', 'failing', 'failings', 'five', 'furthers', 'furtherer', 'furthered', 'furtherest', 'further', 'furthering', 'furthermore', 'fourscore', 'followthrough', 'for', 'forwhy', 'fornenst', 'formerly', 'former', 'formerer', 'formerest', 'formers', 'forbye', 'forby', 'fore', 'forever', 'forer', 'fores', 'four', 'd', 'ddays', 'dday', 'do', 'doing', 'doings', 'doe', 'does', 'doth', 'downwarder', 'downwardest', 'downward', 'downwards', 'downs', 'done', 'doner', 'dones', 'donest', 'dos', 'dost', 'did', 'differentest', 'differenter', 'different', 'describing', 'describe', 'describes', 'described', 'despiting', 'despites', 'despited', 'despite', 'during', 'c', 'cum', 'circa', 'chez', 'cer', 'certain', 'certainest', 'certainer', 'cest', 'canst', 'cannot', 'cant', 'cants', 'canting', 'cantest', 'canted', 'co', 'could', 'couldst', 'comeon', 'comeons', 'come-ons', 'come-on', 'concerning', 'concerninger', 'concerningest', 'consequently', 'considering', 'e', 'eg', 'eight', 'either', 'even', 'evens', 'evenser', 'evensest', 'evened', 'evenest', 'ever', 'everyone', 'everything', 'everybody', 'everywhere', 'every', 'ere', 'each', 'et', 'etc', 'elsewhere', 'else', 'ex', 'excepted', 'excepts', 'except', 'excepting', 'exes', 'enough']\n"
     ]
    }
   ],
   "source": [
    "stop_words_list = open(\"../datasets/stopwords.txt\",\"r\")\n",
    "stop_words_list = stop_words_list.readlines()\n",
    "stop_words=[]\n",
    "for word in stop_words_list:\n",
    "    stop_words.append(word.split('\\n')[0])\n",
    "print(stop_words)"
   ]
  },
  {
   "cell_type": "code",
   "execution_count": 239,
   "metadata": {},
   "outputs": [],
   "source": [
    "feature_encoding='tfidf_word_count_' # tfidf_word_count_ or word_count_\n",
    "balance_labels=False # True or False\n",
    "analyzer='word'       # ‘word’, ‘char’, ‘char_wb’\n",
    "ngram_range=(1, 1)    # unigram - (1,1), unigram & bigram - (1,2), bigram - (2,2)\n",
    "stop_words='english' # stop_words or 'english'"
   ]
  },
  {
   "cell_type": "code",
   "execution_count": 240,
   "metadata": {},
   "outputs": [
    {
     "data": {
      "text/plain": [
       "\"\\ncount_vect = CountVectorizer(analyzer=analyzer, ngram_range=ngram_range, stop_words=stop_words)\\nX_train_counts = count_vect.fit_transform(products['reviews'])\\n\\nwc_feature_names = np.array(count_vect.get_feature_names_out())\\nprint('wc_feature_names: {}'.format(wc_feature_names))\\n\\nword_count_df = pd.DataFrame(X_train_counts.toarray())\\nword_count_df = word_count_df.add_prefix('word_count_')\\n\\nproducts = pd.concat([products, word_count_df], axis=1)\\nprint(products.head())\\n\""
      ]
     },
     "execution_count": 240,
     "metadata": {},
     "output_type": "execute_result"
    }
   ],
   "source": [
    "# Word Importance: Frequency counts\n",
    "from sklearn.feature_extraction.text import CountVectorizer\n",
    "\n",
    "#analyzer='word'       # ‘word’, ‘char’, ‘char_wb’\n",
    "#ngram_range=(2, 2)    # unigram - (1,1), unigram & bigram - (1,2), bigram - (2,2)\n",
    "#stop_words=stop_words # stop_words or 'english'\n",
    "\n",
    "'''\n",
    "count_vect = CountVectorizer(analyzer=analyzer, ngram_range=ngram_range, stop_words=stop_words)\n",
    "X_train_counts = count_vect.fit_transform(products['reviews'])\n",
    "\n",
    "wc_feature_names = np.array(count_vect.get_feature_names_out())\n",
    "print('wc_feature_names: {}'.format(wc_feature_names))\n",
    "\n",
    "word_count_df = pd.DataFrame(X_train_counts.toarray())\n",
    "word_count_df = word_count_df.add_prefix('word_count_')\n",
    "\n",
    "products = pd.concat([products, word_count_df], axis=1)\n",
    "print(products.head())\n",
    "'''"
   ]
  },
  {
   "cell_type": "code",
   "execution_count": 241,
   "metadata": {},
   "outputs": [
    {
     "name": "stdout",
     "output_type": "stream",
     "text": [
      "wc_feature_names: ['029' '034' '035' ... 'zink' 'zippy' 'zoom']\n",
      "                                             reviews  rating  \\\n",
      "0  I initially had trouble deciding between the p...     5.0   \n",
      "1  Allow me to preface this with a little history...     5.0   \n",
      "2  I am enjoying it so far Great for reading Had ...     4.0   \n",
      "3  I bought one of the first Paperwhites and have...     5.0   \n",
      "4  I have to say upfront  I dont like coroporate ...     5.0   \n",
      "\n",
      "                                        title  tf_idf_word_count_0  \\\n",
      "0              Paperwhite voyage, no regrets!                  0.0   \n",
      "1           One Simply Could Not Ask For More                  0.0   \n",
      "2  Great for those that just want an e-reader                  0.0   \n",
      "3                    Love / Hate relationship                  0.0   \n",
      "4                                   I LOVE IT                  0.0   \n",
      "\n",
      "   tf_idf_word_count_1  tf_idf_word_count_2  tf_idf_word_count_3  \\\n",
      "0                  0.0                  0.0                  0.0   \n",
      "1                  0.0                  0.0                  0.0   \n",
      "2                  0.0                  0.0                  0.0   \n",
      "3                  0.0                  0.0                  0.0   \n",
      "4                  0.0                  0.0                  0.0   \n",
      "\n",
      "   tf_idf_word_count_4  tf_idf_word_count_5  tf_idf_word_count_6  ...  \\\n",
      "0                  0.0                  0.0                  0.0  ...   \n",
      "1                  0.0                  0.0                  0.0  ...   \n",
      "2                  0.0                  0.0                  0.0  ...   \n",
      "3                  0.0                  0.0                  0.0  ...   \n",
      "4                  0.0                  0.0                  0.0  ...   \n",
      "\n",
      "   tf_idf_word_count_6472  tf_idf_word_count_6473  tf_idf_word_count_6474  \\\n",
      "0                     0.0                     0.0                     0.0   \n",
      "1                     0.0                     0.0                     0.0   \n",
      "2                     0.0                     0.0                     0.0   \n",
      "3                     0.0                     0.0                     0.0   \n",
      "4                     0.0                     0.0                     0.0   \n",
      "\n",
      "   tf_idf_word_count_6475  tf_idf_word_count_6476  tf_idf_word_count_6477  \\\n",
      "0                     0.0                     0.0                     0.0   \n",
      "1                     0.0                     0.0                     0.0   \n",
      "2                     0.0                     0.0                     0.0   \n",
      "3                     0.0                     0.0                     0.0   \n",
      "4                     0.0                     0.0                     0.0   \n",
      "\n",
      "   tf_idf_word_count_6478  tf_idf_word_count_6479  tf_idf_word_count_6480  \\\n",
      "0                     0.0                     0.0                     0.0   \n",
      "1                     0.0                     0.0                     0.0   \n",
      "2                     0.0                     0.0                     0.0   \n",
      "3                     0.0                     0.0                     0.0   \n",
      "4                     0.0                     0.0                     0.0   \n",
      "\n",
      "   tf_idf_word_count_6481  \n",
      "0                     0.0  \n",
      "1                     0.0  \n",
      "2                     0.0  \n",
      "3                     0.0  \n",
      "4                     0.0  \n",
      "\n",
      "[5 rows x 6485 columns]\n"
     ]
    }
   ],
   "source": [
    "from sklearn.feature_extraction.text import TfidfTransformer\n",
    "\n",
    "tfidf_transformer = TfidfTransformer()\n",
    "count_vect = CountVectorizer(analyzer=analyzer, ngram_range=ngram_range, stop_words=stop_words)\n",
    "\n",
    "X_train_counts = count_vect.fit_transform(products['reviews'])\n",
    "wc_feature_names = np.array(count_vect.get_feature_names_out())\n",
    "print('wc_feature_names: {}'.format(wc_feature_names))\n",
    "\n",
    "X_train_tfidf = tfidf_transformer.fit_transform(X_train_counts)\n",
    "word_count_df = pd.DataFrame(X_train_tfidf.toarray())\n",
    "word_count_df = word_count_df.add_prefix('tf_idf_word_count_')\n",
    "products = pd.concat([products, word_count_df], axis=1)\n",
    "print(products.head())"
   ]
  },
  {
   "cell_type": "code",
   "execution_count": null,
   "metadata": {},
   "outputs": [],
   "source": []
  },
  {
   "cell_type": "code",
   "execution_count": 242,
   "metadata": {},
   "outputs": [
    {
     "name": "stdout",
     "output_type": "stream",
     "text": [
      "tfidf_feature_names: ['029' '034' '035' ... 'zink' 'zippy' 'zoom']\n",
      "                                             reviews  rating  \\\n",
      "0  I initially had trouble deciding between the p...     5.0   \n",
      "1  Allow me to preface this with a little history...     5.0   \n",
      "2  I am enjoying it so far Great for reading Had ...     4.0   \n",
      "3  I bought one of the first Paperwhites and have...     5.0   \n",
      "4  I have to say upfront  I dont like coroporate ...     5.0   \n",
      "\n",
      "                                        title  tf_idf_word_count_0  \\\n",
      "0              Paperwhite voyage, no regrets!                  0.0   \n",
      "1           One Simply Could Not Ask For More                  0.0   \n",
      "2  Great for those that just want an e-reader                  0.0   \n",
      "3                    Love / Hate relationship                  0.0   \n",
      "4                                   I LOVE IT                  0.0   \n",
      "\n",
      "   tf_idf_word_count_1  tf_idf_word_count_2  tf_idf_word_count_3  \\\n",
      "0                  0.0                  0.0                  0.0   \n",
      "1                  0.0                  0.0                  0.0   \n",
      "2                  0.0                  0.0                  0.0   \n",
      "3                  0.0                  0.0                  0.0   \n",
      "4                  0.0                  0.0                  0.0   \n",
      "\n",
      "   tf_idf_word_count_4  tf_idf_word_count_5  tf_idf_word_count_6  ...  \\\n",
      "0                  0.0                  0.0                  0.0  ...   \n",
      "1                  0.0                  0.0                  0.0  ...   \n",
      "2                  0.0                  0.0                  0.0  ...   \n",
      "3                  0.0                  0.0                  0.0  ...   \n",
      "4                  0.0                  0.0                  0.0  ...   \n",
      "\n",
      "   tfidf_word_count_tf_idf_word_count_6472  \\\n",
      "0                                      0.0   \n",
      "1                                      0.0   \n",
      "2                                      0.0   \n",
      "3                                      0.0   \n",
      "4                                      0.0   \n",
      "\n",
      "   tfidf_word_count_tf_idf_word_count_6473  \\\n",
      "0                                      0.0   \n",
      "1                                      0.0   \n",
      "2                                      0.0   \n",
      "3                                      0.0   \n",
      "4                                      0.0   \n",
      "\n",
      "   tfidf_word_count_tf_idf_word_count_6474  \\\n",
      "0                                      0.0   \n",
      "1                                      0.0   \n",
      "2                                      0.0   \n",
      "3                                      0.0   \n",
      "4                                      0.0   \n",
      "\n",
      "   tfidf_word_count_tf_idf_word_count_6475  \\\n",
      "0                                      0.0   \n",
      "1                                      0.0   \n",
      "2                                      0.0   \n",
      "3                                      0.0   \n",
      "4                                      0.0   \n",
      "\n",
      "   tfidf_word_count_tf_idf_word_count_6476  \\\n",
      "0                                      0.0   \n",
      "1                                      0.0   \n",
      "2                                      0.0   \n",
      "3                                      0.0   \n",
      "4                                      0.0   \n",
      "\n",
      "   tfidf_word_count_tf_idf_word_count_6477  \\\n",
      "0                                      0.0   \n",
      "1                                      0.0   \n",
      "2                                      0.0   \n",
      "3                                      0.0   \n",
      "4                                      0.0   \n",
      "\n",
      "   tfidf_word_count_tf_idf_word_count_6478  \\\n",
      "0                                      0.0   \n",
      "1                                      0.0   \n",
      "2                                      0.0   \n",
      "3                                      0.0   \n",
      "4                                      0.0   \n",
      "\n",
      "   tfidf_word_count_tf_idf_word_count_6479  \\\n",
      "0                                      0.0   \n",
      "1                                      0.0   \n",
      "2                                      0.0   \n",
      "3                                      0.0   \n",
      "4                                      0.0   \n",
      "\n",
      "   tfidf_word_count_tf_idf_word_count_6480  \\\n",
      "0                                      0.0   \n",
      "1                                      0.0   \n",
      "2                                      0.0   \n",
      "3                                      0.0   \n",
      "4                                      0.0   \n",
      "\n",
      "   tfidf_word_count_tf_idf_word_count_6481  \n",
      "0                                      0.0  \n",
      "1                                      0.0  \n",
      "2                                      0.0  \n",
      "3                                      0.0  \n",
      "4                                      0.0  \n",
      "\n",
      "[5 rows x 12967 columns]\n"
     ]
    }
   ],
   "source": [
    "# Word Importance: TF-IDF\n",
    "import numpy as np\n",
    "from sklearn.feature_extraction.text import TfidfVectorizer\n",
    "\n",
    "#analyzer='word'       # ‘word’, ‘char’, ‘char_wb’\n",
    "#ngram_range=(2, 2)    # unigram - (1,1), unigram & bigram - (1,2), bigram - (2,2)\n",
    "#stop_words=stop_words # stop_words or 'english'\n",
    "tfidf = TfidfVectorizer(analyzer=analyzer, ngram_range=ngram_range, stop_words=stop_words)\n",
    "\n",
    "X_train_tfidf = tfidf.fit_transform(products['reviews'])\n",
    "tfidf_df = pd.DataFrame(X_train_tfidf.toarray())\n",
    "tfidf_df = word_count_df.add_prefix('tfidf_word_count_')\n",
    "tfidf_feature_names = np.array(tfidf.get_feature_names_out())\n",
    "print('tfidf_feature_names: {}'.format(tfidf_feature_names))\n",
    "\n",
    "products = pd.concat([products, tfidf_df], axis=1)\n",
    "print(products.head())"
   ]
  },
  {
   "cell_type": "code",
   "execution_count": 243,
   "metadata": {},
   "outputs": [],
   "source": [
    "new_doc = products['reviews'][:2].to_numpy()\n",
    "responses = tfidf.transform(new_doc)"
   ]
  },
  {
   "cell_type": "code",
   "execution_count": 244,
   "metadata": {},
   "outputs": [],
   "source": [
    "def get_top_tf_idf_words(response, feature_names, top_n=3):\n",
    "    sorted_nzs = np.argsort(response.data)[:-(top_n+1):-1]\n",
    "    return feature_names[response.indices[sorted_nzs]]"
   ]
  },
  {
   "cell_type": "code",
   "execution_count": 245,
   "metadata": {},
   "outputs": [],
   "source": [
    "top_n=10\n",
    "new_doc = products['reviews'][:top_n].to_numpy()\n",
    "review_sample = tfidf.transform(new_doc)\n",
    "review_top_words = get_top_tf_idf_words(review_sample, wc_feature_names, top_n=top_n)"
   ]
  },
  {
   "cell_type": "code",
   "execution_count": 246,
   "metadata": {},
   "outputs": [
    {
     "name": "stdout",
     "output_type": "stream",
     "text": [
      "['delivery' 'different' 'kindle' 'builtin' 'en' 'manga' 'serbia' '2012'\n",
      " 'hurt' 'setting']\n"
     ]
    }
   ],
   "source": [
    "print(review_top_words)"
   ]
  },
  {
   "cell_type": "markdown",
   "metadata": {},
   "source": [
    "# Using stopwords: ['delivery' 'kindle' 'builtin' 'en' 'manga' 'modelpaper' 'serbia' 'de', 'shelf' '2012']\n",
    "# Using no stopwords: ['delivery' 'different' 'kindle' 'builtin' 'en' 'manga' 'serbia' '2012',  'hurt' 'setting']"
   ]
  },
  {
   "cell_type": "code",
   "execution_count": null,
   "metadata": {},
   "outputs": [],
   "source": []
  },
  {
   "cell_type": "markdown",
   "metadata": {},
   "source": [
    "Now, let us explore what the sample example above looks like after these 2 transformations. Here, each entry in the **word_count** column is a dictionary where the key is the word and the value is a count of the number of times the word occurs."
   ]
  },
  {
   "cell_type": "markdown",
   "metadata": {},
   "source": [
    "## Extract sentiments\n",
    "\n",
    "We will **ignore** all reviews with *rating = 3*, since they tend to have a neutral sentiment."
   ]
  },
  {
   "cell_type": "code",
   "execution_count": 247,
   "metadata": {},
   "outputs": [
    {
     "data": {
      "text/plain": [
       "(1053, 12967)"
      ]
     },
     "execution_count": 247,
     "metadata": {},
     "output_type": "execute_result"
    }
   ],
   "source": [
    "products = products[products['rating'] != 3]\n",
    "products.reset_index(drop=True, inplace=True)\n",
    "products.shape"
   ]
  },
  {
   "cell_type": "markdown",
   "metadata": {},
   "source": [
    "Now, we will assign reviews with a rating of 4 or higher to be *positive* reviews, while the ones with rating of 2 or lower are *negative*. For the sentiment column, we use +1 for the positive class label and -1 for the negative class label."
   ]
  },
  {
   "cell_type": "code",
   "execution_count": 248,
   "metadata": {},
   "outputs": [
    {
     "data": {
      "text/html": [
       "<div>\n",
       "<style scoped>\n",
       "    .dataframe tbody tr th:only-of-type {\n",
       "        vertical-align: middle;\n",
       "    }\n",
       "\n",
       "    .dataframe tbody tr th {\n",
       "        vertical-align: top;\n",
       "    }\n",
       "\n",
       "    .dataframe thead th {\n",
       "        text-align: right;\n",
       "    }\n",
       "</style>\n",
       "<table border=\"1\" class=\"dataframe\">\n",
       "  <thead>\n",
       "    <tr style=\"text-align: right;\">\n",
       "      <th></th>\n",
       "      <th>reviews</th>\n",
       "      <th>rating</th>\n",
       "      <th>title</th>\n",
       "      <th>tf_idf_word_count_0</th>\n",
       "      <th>tf_idf_word_count_1</th>\n",
       "      <th>tf_idf_word_count_2</th>\n",
       "      <th>tf_idf_word_count_3</th>\n",
       "      <th>tf_idf_word_count_4</th>\n",
       "      <th>tf_idf_word_count_5</th>\n",
       "      <th>tf_idf_word_count_6</th>\n",
       "      <th>...</th>\n",
       "      <th>tfidf_word_count_tf_idf_word_count_6473</th>\n",
       "      <th>tfidf_word_count_tf_idf_word_count_6474</th>\n",
       "      <th>tfidf_word_count_tf_idf_word_count_6475</th>\n",
       "      <th>tfidf_word_count_tf_idf_word_count_6476</th>\n",
       "      <th>tfidf_word_count_tf_idf_word_count_6477</th>\n",
       "      <th>tfidf_word_count_tf_idf_word_count_6478</th>\n",
       "      <th>tfidf_word_count_tf_idf_word_count_6479</th>\n",
       "      <th>tfidf_word_count_tf_idf_word_count_6480</th>\n",
       "      <th>tfidf_word_count_tf_idf_word_count_6481</th>\n",
       "      <th>sentiment</th>\n",
       "    </tr>\n",
       "  </thead>\n",
       "  <tbody>\n",
       "    <tr>\n",
       "      <th>0</th>\n",
       "      <td>I initially had trouble deciding between the p...</td>\n",
       "      <td>5.0</td>\n",
       "      <td>Paperwhite voyage, no regrets!</td>\n",
       "      <td>0.0</td>\n",
       "      <td>0.0</td>\n",
       "      <td>0.0</td>\n",
       "      <td>0.0</td>\n",
       "      <td>0.0</td>\n",
       "      <td>0.0</td>\n",
       "      <td>0.0</td>\n",
       "      <td>...</td>\n",
       "      <td>0.0</td>\n",
       "      <td>0.0</td>\n",
       "      <td>0.0</td>\n",
       "      <td>0.0</td>\n",
       "      <td>0.0</td>\n",
       "      <td>0.0</td>\n",
       "      <td>0.0</td>\n",
       "      <td>0.0</td>\n",
       "      <td>0.0</td>\n",
       "      <td>1</td>\n",
       "    </tr>\n",
       "    <tr>\n",
       "      <th>1</th>\n",
       "      <td>Allow me to preface this with a little history...</td>\n",
       "      <td>5.0</td>\n",
       "      <td>One Simply Could Not Ask For More</td>\n",
       "      <td>0.0</td>\n",
       "      <td>0.0</td>\n",
       "      <td>0.0</td>\n",
       "      <td>0.0</td>\n",
       "      <td>0.0</td>\n",
       "      <td>0.0</td>\n",
       "      <td>0.0</td>\n",
       "      <td>...</td>\n",
       "      <td>0.0</td>\n",
       "      <td>0.0</td>\n",
       "      <td>0.0</td>\n",
       "      <td>0.0</td>\n",
       "      <td>0.0</td>\n",
       "      <td>0.0</td>\n",
       "      <td>0.0</td>\n",
       "      <td>0.0</td>\n",
       "      <td>0.0</td>\n",
       "      <td>1</td>\n",
       "    </tr>\n",
       "    <tr>\n",
       "      <th>2</th>\n",
       "      <td>I am enjoying it so far Great for reading Had ...</td>\n",
       "      <td>4.0</td>\n",
       "      <td>Great for those that just want an e-reader</td>\n",
       "      <td>0.0</td>\n",
       "      <td>0.0</td>\n",
       "      <td>0.0</td>\n",
       "      <td>0.0</td>\n",
       "      <td>0.0</td>\n",
       "      <td>0.0</td>\n",
       "      <td>0.0</td>\n",
       "      <td>...</td>\n",
       "      <td>0.0</td>\n",
       "      <td>0.0</td>\n",
       "      <td>0.0</td>\n",
       "      <td>0.0</td>\n",
       "      <td>0.0</td>\n",
       "      <td>0.0</td>\n",
       "      <td>0.0</td>\n",
       "      <td>0.0</td>\n",
       "      <td>0.0</td>\n",
       "      <td>1</td>\n",
       "    </tr>\n",
       "    <tr>\n",
       "      <th>3</th>\n",
       "      <td>I bought one of the first Paperwhites and have...</td>\n",
       "      <td>5.0</td>\n",
       "      <td>Love / Hate relationship</td>\n",
       "      <td>0.0</td>\n",
       "      <td>0.0</td>\n",
       "      <td>0.0</td>\n",
       "      <td>0.0</td>\n",
       "      <td>0.0</td>\n",
       "      <td>0.0</td>\n",
       "      <td>0.0</td>\n",
       "      <td>...</td>\n",
       "      <td>0.0</td>\n",
       "      <td>0.0</td>\n",
       "      <td>0.0</td>\n",
       "      <td>0.0</td>\n",
       "      <td>0.0</td>\n",
       "      <td>0.0</td>\n",
       "      <td>0.0</td>\n",
       "      <td>0.0</td>\n",
       "      <td>0.0</td>\n",
       "      <td>1</td>\n",
       "    </tr>\n",
       "    <tr>\n",
       "      <th>4</th>\n",
       "      <td>I have to say upfront  I dont like coroporate ...</td>\n",
       "      <td>5.0</td>\n",
       "      <td>I LOVE IT</td>\n",
       "      <td>0.0</td>\n",
       "      <td>0.0</td>\n",
       "      <td>0.0</td>\n",
       "      <td>0.0</td>\n",
       "      <td>0.0</td>\n",
       "      <td>0.0</td>\n",
       "      <td>0.0</td>\n",
       "      <td>...</td>\n",
       "      <td>0.0</td>\n",
       "      <td>0.0</td>\n",
       "      <td>0.0</td>\n",
       "      <td>0.0</td>\n",
       "      <td>0.0</td>\n",
       "      <td>0.0</td>\n",
       "      <td>0.0</td>\n",
       "      <td>0.0</td>\n",
       "      <td>0.0</td>\n",
       "      <td>1</td>\n",
       "    </tr>\n",
       "  </tbody>\n",
       "</table>\n",
       "<p>5 rows × 12968 columns</p>\n",
       "</div>"
      ],
      "text/plain": [
       "                                             reviews  rating  \\\n",
       "0  I initially had trouble deciding between the p...     5.0   \n",
       "1  Allow me to preface this with a little history...     5.0   \n",
       "2  I am enjoying it so far Great for reading Had ...     4.0   \n",
       "3  I bought one of the first Paperwhites and have...     5.0   \n",
       "4  I have to say upfront  I dont like coroporate ...     5.0   \n",
       "\n",
       "                                        title  tf_idf_word_count_0  \\\n",
       "0              Paperwhite voyage, no regrets!                  0.0   \n",
       "1           One Simply Could Not Ask For More                  0.0   \n",
       "2  Great for those that just want an e-reader                  0.0   \n",
       "3                    Love / Hate relationship                  0.0   \n",
       "4                                   I LOVE IT                  0.0   \n",
       "\n",
       "   tf_idf_word_count_1  tf_idf_word_count_2  tf_idf_word_count_3  \\\n",
       "0                  0.0                  0.0                  0.0   \n",
       "1                  0.0                  0.0                  0.0   \n",
       "2                  0.0                  0.0                  0.0   \n",
       "3                  0.0                  0.0                  0.0   \n",
       "4                  0.0                  0.0                  0.0   \n",
       "\n",
       "   tf_idf_word_count_4  tf_idf_word_count_5  tf_idf_word_count_6  ...  \\\n",
       "0                  0.0                  0.0                  0.0  ...   \n",
       "1                  0.0                  0.0                  0.0  ...   \n",
       "2                  0.0                  0.0                  0.0  ...   \n",
       "3                  0.0                  0.0                  0.0  ...   \n",
       "4                  0.0                  0.0                  0.0  ...   \n",
       "\n",
       "   tfidf_word_count_tf_idf_word_count_6473  \\\n",
       "0                                      0.0   \n",
       "1                                      0.0   \n",
       "2                                      0.0   \n",
       "3                                      0.0   \n",
       "4                                      0.0   \n",
       "\n",
       "   tfidf_word_count_tf_idf_word_count_6474  \\\n",
       "0                                      0.0   \n",
       "1                                      0.0   \n",
       "2                                      0.0   \n",
       "3                                      0.0   \n",
       "4                                      0.0   \n",
       "\n",
       "   tfidf_word_count_tf_idf_word_count_6475  \\\n",
       "0                                      0.0   \n",
       "1                                      0.0   \n",
       "2                                      0.0   \n",
       "3                                      0.0   \n",
       "4                                      0.0   \n",
       "\n",
       "   tfidf_word_count_tf_idf_word_count_6476  \\\n",
       "0                                      0.0   \n",
       "1                                      0.0   \n",
       "2                                      0.0   \n",
       "3                                      0.0   \n",
       "4                                      0.0   \n",
       "\n",
       "   tfidf_word_count_tf_idf_word_count_6477  \\\n",
       "0                                      0.0   \n",
       "1                                      0.0   \n",
       "2                                      0.0   \n",
       "3                                      0.0   \n",
       "4                                      0.0   \n",
       "\n",
       "   tfidf_word_count_tf_idf_word_count_6478  \\\n",
       "0                                      0.0   \n",
       "1                                      0.0   \n",
       "2                                      0.0   \n",
       "3                                      0.0   \n",
       "4                                      0.0   \n",
       "\n",
       "   tfidf_word_count_tf_idf_word_count_6479  \\\n",
       "0                                      0.0   \n",
       "1                                      0.0   \n",
       "2                                      0.0   \n",
       "3                                      0.0   \n",
       "4                                      0.0   \n",
       "\n",
       "   tfidf_word_count_tf_idf_word_count_6480  \\\n",
       "0                                      0.0   \n",
       "1                                      0.0   \n",
       "2                                      0.0   \n",
       "3                                      0.0   \n",
       "4                                      0.0   \n",
       "\n",
       "   tfidf_word_count_tf_idf_word_count_6481  sentiment  \n",
       "0                                      0.0          1  \n",
       "1                                      0.0          1  \n",
       "2                                      0.0          1  \n",
       "3                                      0.0          1  \n",
       "4                                      0.0          1  \n",
       "\n",
       "[5 rows x 12968 columns]"
      ]
     },
     "execution_count": 248,
     "metadata": {},
     "output_type": "execute_result"
    }
   ],
   "source": [
    "products['sentiment'] = products['rating'].apply(lambda r: +1 if r > 3 else -1)\n",
    "products.head()"
   ]
  },
  {
   "cell_type": "code",
   "execution_count": 249,
   "metadata": {},
   "outputs": [
    {
     "data": {
      "text/plain": [
       "array([[<AxesSubplot: title={'center': 'sentiment'}>]], dtype=object)"
      ]
     },
     "execution_count": 249,
     "metadata": {},
     "output_type": "execute_result"
    },
    {
     "data": {
      "image/png": "[encoded data removed]",
      "text/plain": [
       "<Figure size 700x500 with 1 Axes>"
      ]
     },
     "metadata": {},
     "output_type": "display_data"
    }
   ],
   "source": [
    "# View number of positive and negative sentiment\n",
    "products.hist(column=['sentiment'])"
   ]
  },
  {
   "cell_type": "markdown",
   "metadata": {},
   "source": [
    "Now, we can see that the dataset contains an extra column called **sentiment** which is either positive (+1) or negative (-1).\n",
    "\n",
    "Note, there are significantly more positive reviews than negative reviews."
   ]
  },
  {
   "cell_type": "markdown",
   "metadata": {},
   "source": [
    "# Match number of positive and negative reviews"
   ]
  },
  {
   "cell_type": "code",
   "execution_count": 250,
   "metadata": {},
   "outputs": [],
   "source": [
    "if(balance_labels):\n",
    "    # Report number of positive examples\n",
    "    positive_sent = products[products['sentiment']==1]\n",
    "    print('There are {} positive reviews'.format(len(positive_sent)))\n",
    "\n",
    "    # Report number of negative examples\n",
    "    negative_sent = products[products['sentiment']==-1]\n",
    "    print('There are {} negative reviews'.format(len(negative_sent)))\n",
    "\n",
    "    # Sample number of negative example from positive examples (# positive > # negative)\n",
    "    positive_sample = positive_sent.sample(n = len(negative_sent))\n",
    "    print('[Update] There are {} positive reviews'.format(len(positive_sample)))\n",
    "\n",
    "    # Merge positive and negative examples and update products dataframe\n",
    "    frames = [negative_sent, positive_sample]\n",
    "    products = pd.concat(frames)"
   ]
  },
  {
   "cell_type": "code",
   "execution_count": 251,
   "metadata": {},
   "outputs": [
    {
     "name": "stdout",
     "output_type": "stream",
     "text": [
      "                                             reviews  rating  \\\n",
      "0  I initially had trouble deciding between the p...     5.0   \n",
      "1  Allow me to preface this with a little history...     5.0   \n",
      "2  I am enjoying it so far Great for reading Had ...     4.0   \n",
      "3  I bought one of the first Paperwhites and have...     5.0   \n",
      "4  I have to say upfront  I dont like coroporate ...     5.0   \n",
      "\n",
      "                                        title  tf_idf_word_count_0  \\\n",
      "0              Paperwhite voyage, no regrets!                  0.0   \n",
      "1           One Simply Could Not Ask For More                  0.0   \n",
      "2  Great for those that just want an e-reader                  0.0   \n",
      "3                    Love / Hate relationship                  0.0   \n",
      "4                                   I LOVE IT                  0.0   \n",
      "\n",
      "   tf_idf_word_count_1  tf_idf_word_count_2  tf_idf_word_count_3  \\\n",
      "0                  0.0                  0.0                  0.0   \n",
      "1                  0.0                  0.0                  0.0   \n",
      "2                  0.0                  0.0                  0.0   \n",
      "3                  0.0                  0.0                  0.0   \n",
      "4                  0.0                  0.0                  0.0   \n",
      "\n",
      "   tf_idf_word_count_4  tf_idf_word_count_5  tf_idf_word_count_6  ...  \\\n",
      "0                  0.0                  0.0                  0.0  ...   \n",
      "1                  0.0                  0.0                  0.0  ...   \n",
      "2                  0.0                  0.0                  0.0  ...   \n",
      "3                  0.0                  0.0                  0.0  ...   \n",
      "4                  0.0                  0.0                  0.0  ...   \n",
      "\n",
      "   tfidf_word_count_tf_idf_word_count_6473  \\\n",
      "0                                      0.0   \n",
      "1                                      0.0   \n",
      "2                                      0.0   \n",
      "3                                      0.0   \n",
      "4                                      0.0   \n",
      "\n",
      "   tfidf_word_count_tf_idf_word_count_6474  \\\n",
      "0                                      0.0   \n",
      "1                                      0.0   \n",
      "2                                      0.0   \n",
      "3                                      0.0   \n",
      "4                                      0.0   \n",
      "\n",
      "   tfidf_word_count_tf_idf_word_count_6475  \\\n",
      "0                                      0.0   \n",
      "1                                      0.0   \n",
      "2                                      0.0   \n",
      "3                                      0.0   \n",
      "4                                      0.0   \n",
      "\n",
      "   tfidf_word_count_tf_idf_word_count_6476  \\\n",
      "0                                      0.0   \n",
      "1                                      0.0   \n",
      "2                                      0.0   \n",
      "3                                      0.0   \n",
      "4                                      0.0   \n",
      "\n",
      "   tfidf_word_count_tf_idf_word_count_6477  \\\n",
      "0                                      0.0   \n",
      "1                                      0.0   \n",
      "2                                      0.0   \n",
      "3                                      0.0   \n",
      "4                                      0.0   \n",
      "\n",
      "   tfidf_word_count_tf_idf_word_count_6478  \\\n",
      "0                                      0.0   \n",
      "1                                      0.0   \n",
      "2                                      0.0   \n",
      "3                                      0.0   \n",
      "4                                      0.0   \n",
      "\n",
      "   tfidf_word_count_tf_idf_word_count_6479  \\\n",
      "0                                      0.0   \n",
      "1                                      0.0   \n",
      "2                                      0.0   \n",
      "3                                      0.0   \n",
      "4                                      0.0   \n",
      "\n",
      "   tfidf_word_count_tf_idf_word_count_6480  \\\n",
      "0                                      0.0   \n",
      "1                                      0.0   \n",
      "2                                      0.0   \n",
      "3                                      0.0   \n",
      "4                                      0.0   \n",
      "\n",
      "   tfidf_word_count_tf_idf_word_count_6481  sentiment  \n",
      "0                                      0.0          1  \n",
      "1                                      0.0          1  \n",
      "2                                      0.0          1  \n",
      "3                                      0.0          1  \n",
      "4                                      0.0          1  \n",
      "\n",
      "[5 rows x 12968 columns]\n"
     ]
    }
   ],
   "source": [
    "print(products.head())"
   ]
  },
  {
   "cell_type": "code",
   "execution_count": 252,
   "metadata": {},
   "outputs": [
    {
     "name": "stdout",
     "output_type": "stream",
     "text": [
      "                                                reviews  rating  \\\n",
      "1048  Voice remote gave out nearly a year after I pu...     1.0   \n",
      "1049  Purchased my first one with the TV Fire box ov...     2.0   \n",
      "1050  I have had to change the batteries in this rem...     1.0   \n",
      "1051  Remote did not activate nor did it connect to ...     1.0   \n",
      "1052  I ordered this item to replace the one that no...     1.0   \n",
      "\n",
      "                                                  title  tf_idf_word_count_0  \\\n",
      "1048  OEM Remote gave out after 12 months, consideri...                  0.0   \n",
      "1049               My voice remote controller pooed out                  0.0   \n",
      "1050                        Battery draining remote!!!!                  0.0   \n",
      "1051      replacing an even worse remote. Waste of time                  0.0   \n",
      "1052  I am sending all of this crap back to amazon a...                  0.0   \n",
      "\n",
      "      tf_idf_word_count_1  tf_idf_word_count_2  tf_idf_word_count_3  \\\n",
      "1048                  0.0                  0.0                  0.0   \n",
      "1049                  0.0                  0.0                  0.0   \n",
      "1050                  0.0                  0.0                  0.0   \n",
      "1051                  0.0                  0.0                  0.0   \n",
      "1052                  0.0                  0.0                  0.0   \n",
      "\n",
      "      tf_idf_word_count_4  tf_idf_word_count_5  tf_idf_word_count_6  ...  \\\n",
      "1048                  0.0                  0.0                  0.0  ...   \n",
      "1049                  0.0                  0.0                  0.0  ...   \n",
      "1050                  0.0                  0.0                  0.0  ...   \n",
      "1051                  0.0                  0.0                  0.0  ...   \n",
      "1052                  0.0                  0.0                  0.0  ...   \n",
      "\n",
      "      tfidf_word_count_tf_idf_word_count_6473  \\\n",
      "1048                                      0.0   \n",
      "1049                                      0.0   \n",
      "1050                                      0.0   \n",
      "1051                                      0.0   \n",
      "1052                                      0.0   \n",
      "\n",
      "      tfidf_word_count_tf_idf_word_count_6474  \\\n",
      "1048                                      0.0   \n",
      "1049                                      0.0   \n",
      "1050                                      0.0   \n",
      "1051                                      0.0   \n",
      "1052                                      0.0   \n",
      "\n",
      "      tfidf_word_count_tf_idf_word_count_6475  \\\n",
      "1048                                      0.0   \n",
      "1049                                      0.0   \n",
      "1050                                      0.0   \n",
      "1051                                      0.0   \n",
      "1052                                      0.0   \n",
      "\n",
      "      tfidf_word_count_tf_idf_word_count_6476  \\\n",
      "1048                                      0.0   \n",
      "1049                                      0.0   \n",
      "1050                                      0.0   \n",
      "1051                                      0.0   \n",
      "1052                                      0.0   \n",
      "\n",
      "      tfidf_word_count_tf_idf_word_count_6477  \\\n",
      "1048                                      0.0   \n",
      "1049                                      0.0   \n",
      "1050                                      0.0   \n",
      "1051                                      0.0   \n",
      "1052                                      0.0   \n",
      "\n",
      "      tfidf_word_count_tf_idf_word_count_6478  \\\n",
      "1048                                      0.0   \n",
      "1049                                      0.0   \n",
      "1050                                      0.0   \n",
      "1051                                      0.0   \n",
      "1052                                      0.0   \n",
      "\n",
      "      tfidf_word_count_tf_idf_word_count_6479  \\\n",
      "1048                                      0.0   \n",
      "1049                                      0.0   \n",
      "1050                                      0.0   \n",
      "1051                                      0.0   \n",
      "1052                                      0.0   \n",
      "\n",
      "      tfidf_word_count_tf_idf_word_count_6480  \\\n",
      "1048                                      0.0   \n",
      "1049                                      0.0   \n",
      "1050                                      0.0   \n",
      "1051                                      0.0   \n",
      "1052                                      0.0   \n",
      "\n",
      "      tfidf_word_count_tf_idf_word_count_6481  sentiment  \n",
      "1048                                      0.0         -1  \n",
      "1049                                      0.0         -1  \n",
      "1050                                      0.0         -1  \n",
      "1051                                      0.0         -1  \n",
      "1052                                      0.0         -1  \n",
      "\n",
      "[5 rows x 12968 columns]\n"
     ]
    }
   ],
   "source": [
    "print(products.tail())"
   ]
  },
  {
   "cell_type": "code",
   "execution_count": null,
   "metadata": {},
   "outputs": [],
   "source": []
  },
  {
   "cell_type": "markdown",
   "metadata": {},
   "source": [
    "## Split data into training and test sets"
   ]
  },
  {
   "cell_type": "markdown",
   "metadata": {},
   "source": [
    "Let's perform a train/test split with 80% of the data in the training set and 20% of the data in the test set. We use `seed=1` so that everyone gets the same result."
   ]
  },
  {
   "cell_type": "code",
   "execution_count": 253,
   "metadata": {},
   "outputs": [],
   "source": [
    "from sklearn.model_selection import train_test_split\n",
    "\n",
    "X, y = products.loc[:, ~products.columns.isin(['sentiment'])], products.loc[:, products.columns.isin(['sentiment'])]\n",
    "\n",
    "X_train, X_test, y_train, y_test = train_test_split(X, y, test_size=.3, random_state=1)"
   ]
  },
  {
   "cell_type": "markdown",
   "metadata": {},
   "source": [
    "Just like in the earlier assignments, we convert Pandas dataframe into a NumPy array. Two arrays are returned: one representing features and another representing class labels. "
   ]
  },
  {
   "cell_type": "markdown",
   "metadata": {},
   "source": [
    "## Building on logistic regression\n",
    "\n",
    "Recall from lecture that the link function for logistic regression can be defined as:\n",
    "\n",
    "$$\n",
    "P(y_i = +1 | \\mathbf{x}_i,\\mathbf{w}) = \\frac{1}{1 + \\exp(-\\mathbf{w}^T h(\\mathbf{x}_i))},\n",
    "$$\n",
    "\n",
    "where the feature vector $h(\\mathbf{x}_i)$ is given by the word counts of **important_words** in the review $\\mathbf{x}_i$. \n",
    "\n",
    "\n",
    "We will now use logistic regression to create a sentiment classifier on the training data. This model will use the column **word_count** as a feature and the column **sentiment** as the target. "
   ]
  },
  {
   "cell_type": "code",
   "execution_count": 254,
   "metadata": {},
   "outputs": [],
   "source": [
    "def predict_probability(X, W, b=0):\n",
    "    '''\n",
    "    Produces probabilistic estimate for P(y_i = +1 | x_i, w)\n",
    "        Estimate ranges between 0 and 1.\n",
    "    Input:\n",
    "        - X: Input features\n",
    "        - W: weights/coefficients of logistic regression model\n",
    "        - b: bias or y-intercept of logistic regression classifier\n",
    "    Output:\n",
    "        - y_pred: probability of positive product review\n",
    "    '''\n",
    "    # Take dot product of feature_matrix and coefficients  \n",
    "    score = np.dot(X, W)\n",
    "    \n",
    "    # Compute P(y_i = +1 | x_i, w) using the link function\n",
    "    y_pred = 1. / (1.+np.exp(-score)) + b    \n",
    "    return y_pred"
   ]
  },
  {
   "cell_type": "markdown",
   "metadata": {},
   "source": [
    "To track the performance of gradient ascent, we provide a function for computing **average log likelihood**. \n",
    "\n",
    "$$\\ell\\ell_A(\\mathbf{w}) = \\color{black}{\\frac{1}{N}} \\sum_{i=1}^N \\Big( (\\mathbf{1}[y_i = +1] - 1)\\mathbf{w}^T h(\\mathbf{x}_i) - \\ln\\left(1 + \\exp(-\\mathbf{w}^T h(\\mathbf{x}_i))\\right) \\Big) $$\n"
   ]
  },
  {
   "cell_type": "code",
   "execution_count": 255,
   "metadata": {},
   "outputs": [],
   "source": [
    "def compute_avg_log_likelihood(feature_matrix, sentiment, coefficients):\n",
    "    '''\n",
    "    Compute the average log-likelihood of logistic regression coefficients\n",
    "    Input\n",
    "        - feature_matrix: subset of features in dataset\n",
    "        - sentiment: true sentiment of inputs\n",
    "        - coefficients: logistic regression weights\n",
    "    Output\n",
    "        - lp: log likelihood estimation\n",
    "    '''\n",
    "    indicator = (sentiment==+1)\n",
    "    scores = np.dot(feature_matrix, coefficients)\n",
    "    logexp = np.log(1. + np.exp(-scores))\n",
    "    \n",
    "    # Simple check to prevent overflow\n",
    "    mask = np.isinf(logexp)\n",
    "    logexp[mask] = -scores[mask]\n",
    "    \n",
    "    lp = np.sum((indicator-1)*scores - logexp)/len(feature_matrix)\n",
    "    \n",
    "    return lp"
   ]
  },
  {
   "cell_type": "code",
   "execution_count": 256,
   "metadata": {},
   "outputs": [],
   "source": [
    "# Helper function to update weights in gradient descent \n",
    "def update_weights(X, Y, W, b, learning_rate, log_likelihood):      \n",
    "    '''\n",
    "    Update weights of logistic regression model using gradient ascent.\n",
    "    Compute the derivative and update weights.\n",
    "    Inputs\n",
    "        - X: Input features\n",
    "        - Y: list of actual product sentiment classes \n",
    "        - W: weights/coefficients of logistic regression model\n",
    "        - b: bias or y-intercept of logistic regression classifier\n",
    "        - learning_rate: learning rate\n",
    "        - log_likelihood: log likelihood of weights\n",
    "    Output:\n",
    "        - W: predicted weights\n",
    "        - b: predicted bias\n",
    "        - log_likelihood: log likelihood\n",
    "    '''\n",
    "    # no_of_training_examples, no_of_features         \n",
    "    num_features, num_examples = X.shape\n",
    "    # Make a prediction\n",
    "    y_pred = 1 / (1 + np.exp(-(X.dot(W) + b))) \n",
    "    \n",
    "    dW = X.T.dot(Y-y_pred) / num_features \n",
    "    db = np.sum(Y-y_pred) / num_features \n",
    "\n",
    "    # update weights and bias\n",
    "    b = b + learning_rate * db\n",
    "    W = W + learning_rate * dW\n",
    "\n",
    "    # Compute log-likelihood\n",
    "    for i in range(len(W)):\n",
    "        #y_pred = 1 / (1 + np.exp(-(X[:,i].dot(W[i]) + b))) \n",
    "        #log_likelihood += compute_avg_log_likelihood(X[:,i], Y, W[i])\n",
    "        log_likelihood = compute_avg_log_likelihood(X[:,i], Y, W[i])\n",
    "\n",
    "    return W, b, log_likelihood"
   ]
  },
  {
   "cell_type": "code",
   "execution_count": 257,
   "metadata": {},
   "outputs": [],
   "source": [
    "def predict(X, W, b):\n",
    "    '''\n",
    "    Hypothetical function  h(x)\n",
    "    Input: \n",
    "        - X: Input features\n",
    "        - W: weights/coefficients of logistic regression model\n",
    "        - b: bias or y-intercept of logistic regression classifier\n",
    "    Output:\n",
    "        - Y: list of predicted classes \n",
    "    '''\n",
    "    Z = 1 / (1 + np.exp(- (X.dot(W) + b)))\n",
    "    Y = [-1 if z <= 0.5 else +1 for z in Z]\n",
    "    return Y"
   ]
  },
  {
   "cell_type": "code",
   "execution_count": 258,
   "metadata": {},
   "outputs": [],
   "source": [
    "def fit(X, Y, num_iterations, learning_rate):   \n",
    "    '''\n",
    "    Fit features to data using logistic regression \n",
    "    Input: \n",
    "        - X: Input features\n",
    "        - Y: list of actual product sentiment classes \n",
    "        - num_iterations: # of iterations to update weights using gradient ascent\n",
    "        - learning_rate: learning rate\n",
    "    Output:\n",
    "        - W: predicted weights\n",
    "        - b: predicted bias\n",
    "        - likelihood_history: history of log likelihood\n",
    "    '''\n",
    "    # no_of_training_examples, no_of_features         \n",
    "    num_features, num_examples = X.shape    \n",
    "    \n",
    "    # weight initialization         \n",
    "    W = np.zeros(num_examples)\n",
    "    b = 0\n",
    "    log_likelihood=0\n",
    "    likelihood_history=[]\n",
    "      \n",
    "    # gradient ascent learning \n",
    "    for i in range(num_iterations):          \n",
    "        W, b, log_likelihood = update_weights(X, Y, W, b, learning_rate, log_likelihood)   \n",
    "        likelihood_history.append(log_likelihood)\n",
    "    return W, b, likelihood_history"
   ]
  },
  {
   "cell_type": "code",
   "execution_count": 259,
   "metadata": {},
   "outputs": [
    {
     "data": {
      "text/html": [
       "<div>\n",
       "<style scoped>\n",
       "    .dataframe tbody tr th:only-of-type {\n",
       "        vertical-align: middle;\n",
       "    }\n",
       "\n",
       "    .dataframe tbody tr th {\n",
       "        vertical-align: top;\n",
       "    }\n",
       "\n",
       "    .dataframe thead th {\n",
       "        text-align: right;\n",
       "    }\n",
       "</style>\n",
       "<table border=\"1\" class=\"dataframe\">\n",
       "  <thead>\n",
       "    <tr style=\"text-align: right;\">\n",
       "      <th></th>\n",
       "      <th>tfidf_word_count_tf_idf_word_count_0</th>\n",
       "      <th>tfidf_word_count_tf_idf_word_count_1</th>\n",
       "      <th>tfidf_word_count_tf_idf_word_count_2</th>\n",
       "      <th>tfidf_word_count_tf_idf_word_count_3</th>\n",
       "      <th>tfidf_word_count_tf_idf_word_count_4</th>\n",
       "      <th>tfidf_word_count_tf_idf_word_count_5</th>\n",
       "      <th>tfidf_word_count_tf_idf_word_count_6</th>\n",
       "      <th>tfidf_word_count_tf_idf_word_count_7</th>\n",
       "      <th>tfidf_word_count_tf_idf_word_count_8</th>\n",
       "      <th>tfidf_word_count_tf_idf_word_count_9</th>\n",
       "      <th>...</th>\n",
       "      <th>tfidf_word_count_tf_idf_word_count_6472</th>\n",
       "      <th>tfidf_word_count_tf_idf_word_count_6473</th>\n",
       "      <th>tfidf_word_count_tf_idf_word_count_6474</th>\n",
       "      <th>tfidf_word_count_tf_idf_word_count_6475</th>\n",
       "      <th>tfidf_word_count_tf_idf_word_count_6476</th>\n",
       "      <th>tfidf_word_count_tf_idf_word_count_6477</th>\n",
       "      <th>tfidf_word_count_tf_idf_word_count_6478</th>\n",
       "      <th>tfidf_word_count_tf_idf_word_count_6479</th>\n",
       "      <th>tfidf_word_count_tf_idf_word_count_6480</th>\n",
       "      <th>tfidf_word_count_tf_idf_word_count_6481</th>\n",
       "    </tr>\n",
       "  </thead>\n",
       "  <tbody>\n",
       "    <tr>\n",
       "      <th>955</th>\n",
       "      <td>0.0</td>\n",
       "      <td>0.0</td>\n",
       "      <td>0.0</td>\n",
       "      <td>0.0</td>\n",
       "      <td>0.0</td>\n",
       "      <td>0.0</td>\n",
       "      <td>0.0</td>\n",
       "      <td>0.0</td>\n",
       "      <td>0.0</td>\n",
       "      <td>0.0</td>\n",
       "      <td>...</td>\n",
       "      <td>0.0</td>\n",
       "      <td>0.0</td>\n",
       "      <td>0.0</td>\n",
       "      <td>0.0</td>\n",
       "      <td>0.0</td>\n",
       "      <td>0.0</td>\n",
       "      <td>0.0</td>\n",
       "      <td>0.0</td>\n",
       "      <td>0.0</td>\n",
       "      <td>0.0</td>\n",
       "    </tr>\n",
       "    <tr>\n",
       "      <th>701</th>\n",
       "      <td>0.0</td>\n",
       "      <td>0.0</td>\n",
       "      <td>0.0</td>\n",
       "      <td>0.0</td>\n",
       "      <td>0.0</td>\n",
       "      <td>0.0</td>\n",
       "      <td>0.0</td>\n",
       "      <td>0.0</td>\n",
       "      <td>0.0</td>\n",
       "      <td>0.0</td>\n",
       "      <td>...</td>\n",
       "      <td>0.0</td>\n",
       "      <td>0.0</td>\n",
       "      <td>0.0</td>\n",
       "      <td>0.0</td>\n",
       "      <td>0.0</td>\n",
       "      <td>0.0</td>\n",
       "      <td>0.0</td>\n",
       "      <td>0.0</td>\n",
       "      <td>0.0</td>\n",
       "      <td>0.0</td>\n",
       "    </tr>\n",
       "    <tr>\n",
       "      <th>745</th>\n",
       "      <td>0.0</td>\n",
       "      <td>0.0</td>\n",
       "      <td>0.0</td>\n",
       "      <td>0.0</td>\n",
       "      <td>0.0</td>\n",
       "      <td>0.0</td>\n",
       "      <td>0.0</td>\n",
       "      <td>0.0</td>\n",
       "      <td>0.0</td>\n",
       "      <td>0.0</td>\n",
       "      <td>...</td>\n",
       "      <td>0.0</td>\n",
       "      <td>0.0</td>\n",
       "      <td>0.0</td>\n",
       "      <td>0.0</td>\n",
       "      <td>0.0</td>\n",
       "      <td>0.0</td>\n",
       "      <td>0.0</td>\n",
       "      <td>0.0</td>\n",
       "      <td>0.0</td>\n",
       "      <td>0.0</td>\n",
       "    </tr>\n",
       "    <tr>\n",
       "      <th>293</th>\n",
       "      <td>0.0</td>\n",
       "      <td>0.0</td>\n",
       "      <td>0.0</td>\n",
       "      <td>0.0</td>\n",
       "      <td>0.0</td>\n",
       "      <td>0.0</td>\n",
       "      <td>0.0</td>\n",
       "      <td>0.0</td>\n",
       "      <td>0.0</td>\n",
       "      <td>0.0</td>\n",
       "      <td>...</td>\n",
       "      <td>0.0</td>\n",
       "      <td>0.0</td>\n",
       "      <td>0.0</td>\n",
       "      <td>0.0</td>\n",
       "      <td>0.0</td>\n",
       "      <td>0.0</td>\n",
       "      <td>0.0</td>\n",
       "      <td>0.0</td>\n",
       "      <td>0.0</td>\n",
       "      <td>0.0</td>\n",
       "    </tr>\n",
       "    <tr>\n",
       "      <th>754</th>\n",
       "      <td>0.0</td>\n",
       "      <td>0.0</td>\n",
       "      <td>0.0</td>\n",
       "      <td>0.0</td>\n",
       "      <td>0.0</td>\n",
       "      <td>0.0</td>\n",
       "      <td>0.0</td>\n",
       "      <td>0.0</td>\n",
       "      <td>0.0</td>\n",
       "      <td>0.0</td>\n",
       "      <td>...</td>\n",
       "      <td>0.0</td>\n",
       "      <td>0.0</td>\n",
       "      <td>0.0</td>\n",
       "      <td>0.0</td>\n",
       "      <td>0.0</td>\n",
       "      <td>0.0</td>\n",
       "      <td>0.0</td>\n",
       "      <td>0.0</td>\n",
       "      <td>0.0</td>\n",
       "      <td>0.0</td>\n",
       "    </tr>\n",
       "  </tbody>\n",
       "</table>\n",
       "<p>5 rows × 6482 columns</p>\n",
       "</div>"
      ],
      "text/plain": [
       "     tfidf_word_count_tf_idf_word_count_0  \\\n",
       "955                                   0.0   \n",
       "701                                   0.0   \n",
       "745                                   0.0   \n",
       "293                                   0.0   \n",
       "754                                   0.0   \n",
       "\n",
       "     tfidf_word_count_tf_idf_word_count_1  \\\n",
       "955                                   0.0   \n",
       "701                                   0.0   \n",
       "745                                   0.0   \n",
       "293                                   0.0   \n",
       "754                                   0.0   \n",
       "\n",
       "     tfidf_word_count_tf_idf_word_count_2  \\\n",
       "955                                   0.0   \n",
       "701                                   0.0   \n",
       "745                                   0.0   \n",
       "293                                   0.0   \n",
       "754                                   0.0   \n",
       "\n",
       "     tfidf_word_count_tf_idf_word_count_3  \\\n",
       "955                                   0.0   \n",
       "701                                   0.0   \n",
       "745                                   0.0   \n",
       "293                                   0.0   \n",
       "754                                   0.0   \n",
       "\n",
       "     tfidf_word_count_tf_idf_word_count_4  \\\n",
       "955                                   0.0   \n",
       "701                                   0.0   \n",
       "745                                   0.0   \n",
       "293                                   0.0   \n",
       "754                                   0.0   \n",
       "\n",
       "     tfidf_word_count_tf_idf_word_count_5  \\\n",
       "955                                   0.0   \n",
       "701                                   0.0   \n",
       "745                                   0.0   \n",
       "293                                   0.0   \n",
       "754                                   0.0   \n",
       "\n",
       "     tfidf_word_count_tf_idf_word_count_6  \\\n",
       "955                                   0.0   \n",
       "701                                   0.0   \n",
       "745                                   0.0   \n",
       "293                                   0.0   \n",
       "754                                   0.0   \n",
       "\n",
       "     tfidf_word_count_tf_idf_word_count_7  \\\n",
       "955                                   0.0   \n",
       "701                                   0.0   \n",
       "745                                   0.0   \n",
       "293                                   0.0   \n",
       "754                                   0.0   \n",
       "\n",
       "     tfidf_word_count_tf_idf_word_count_8  \\\n",
       "955                                   0.0   \n",
       "701                                   0.0   \n",
       "745                                   0.0   \n",
       "293                                   0.0   \n",
       "754                                   0.0   \n",
       "\n",
       "     tfidf_word_count_tf_idf_word_count_9  ...  \\\n",
       "955                                   0.0  ...   \n",
       "701                                   0.0  ...   \n",
       "745                                   0.0  ...   \n",
       "293                                   0.0  ...   \n",
       "754                                   0.0  ...   \n",
       "\n",
       "     tfidf_word_count_tf_idf_word_count_6472  \\\n",
       "955                                      0.0   \n",
       "701                                      0.0   \n",
       "745                                      0.0   \n",
       "293                                      0.0   \n",
       "754                                      0.0   \n",
       "\n",
       "     tfidf_word_count_tf_idf_word_count_6473  \\\n",
       "955                                      0.0   \n",
       "701                                      0.0   \n",
       "745                                      0.0   \n",
       "293                                      0.0   \n",
       "754                                      0.0   \n",
       "\n",
       "     tfidf_word_count_tf_idf_word_count_6474  \\\n",
       "955                                      0.0   \n",
       "701                                      0.0   \n",
       "745                                      0.0   \n",
       "293                                      0.0   \n",
       "754                                      0.0   \n",
       "\n",
       "     tfidf_word_count_tf_idf_word_count_6475  \\\n",
       "955                                      0.0   \n",
       "701                                      0.0   \n",
       "745                                      0.0   \n",
       "293                                      0.0   \n",
       "754                                      0.0   \n",
       "\n",
       "     tfidf_word_count_tf_idf_word_count_6476  \\\n",
       "955                                      0.0   \n",
       "701                                      0.0   \n",
       "745                                      0.0   \n",
       "293                                      0.0   \n",
       "754                                      0.0   \n",
       "\n",
       "     tfidf_word_count_tf_idf_word_count_6477  \\\n",
       "955                                      0.0   \n",
       "701                                      0.0   \n",
       "745                                      0.0   \n",
       "293                                      0.0   \n",
       "754                                      0.0   \n",
       "\n",
       "     tfidf_word_count_tf_idf_word_count_6478  \\\n",
       "955                                      0.0   \n",
       "701                                      0.0   \n",
       "745                                      0.0   \n",
       "293                                      0.0   \n",
       "754                                      0.0   \n",
       "\n",
       "     tfidf_word_count_tf_idf_word_count_6479  \\\n",
       "955                                      0.0   \n",
       "701                                      0.0   \n",
       "745                                      0.0   \n",
       "293                                      0.0   \n",
       "754                                      0.0   \n",
       "\n",
       "     tfidf_word_count_tf_idf_word_count_6480  \\\n",
       "955                                      0.0   \n",
       "701                                      0.0   \n",
       "745                                      0.0   \n",
       "293                                      0.0   \n",
       "754                                      0.0   \n",
       "\n",
       "     tfidf_word_count_tf_idf_word_count_6481  \n",
       "955                                      0.0  \n",
       "701                                      0.0  \n",
       "745                                      0.0  \n",
       "293                                      0.0  \n",
       "754                                      0.0  \n",
       "\n",
       "[5 rows x 6482 columns]"
      ]
     },
     "execution_count": 259,
     "metadata": {},
     "output_type": "execute_result"
    }
   ],
   "source": [
    "# Word count\n",
    "if(feature_encoding=='word_count_'):\n",
    "    X_train_sentiment = X_train.loc[:,X_train.columns.str.startswith('word_count_')]\n",
    "    X_test_sentiment = X_test.loc[:,X_test.columns.str.startswith('word_count_')]\n",
    "\n",
    "# TF-IDF\n",
    "if(feature_encoding=='tfidf_word_count_'):\n",
    "    X_train_sentiment = X_train.loc[:,X_train.columns.str.startswith('tfidf_word_count_')]\n",
    "    X_test_sentiment = X_test.loc[:,X_test.columns.str.startswith('tfidf_word_count_')]\n",
    "X_train_sentiment.head()"
   ]
  },
  {
   "cell_type": "code",
   "execution_count": 260,
   "metadata": {},
   "outputs": [],
   "source": [
    "# Hyper-parameters\n",
    "learning_rate=0.0001\n",
    "num_iterations=100"
   ]
  },
  {
   "cell_type": "code",
   "execution_count": 261,
   "metadata": {},
   "outputs": [],
   "source": [
    "sentiment_model_weights, sentiment_model_bias, likelihood_history = fit(X_train_sentiment.to_numpy(), np.ravel(y_train), num_iterations, learning_rate)"
   ]
  },
  {
   "cell_type": "code",
   "execution_count": 262,
   "metadata": {},
   "outputs": [
    {
     "data": {
      "text/plain": [
       "['positive',\n",
       " 'positive',\n",
       " 'positive',\n",
       " 'positive',\n",
       " 'positive',\n",
       " 'positive',\n",
       " 'positive',\n",
       " 'positive',\n",
       " 'positive',\n",
       " 'positive']"
      ]
     },
     "execution_count": 262,
     "metadata": {},
     "output_type": "execute_result"
    }
   ],
   "source": [
    "review_idx=10\n",
    "sentiment = predict(X_test_sentiment[:review_idx], sentiment_model_weights, sentiment_model_bias)\n",
    "sentiment = ['positive' if i==1 else 'negative' for i in sentiment]\n",
    "sentiment"
   ]
  },
  {
   "cell_type": "code",
   "execution_count": 263,
   "metadata": {},
   "outputs": [
    {
     "data": {
      "text/plain": [
       "[1, 1]"
      ]
     },
     "execution_count": 263,
     "metadata": {},
     "output_type": "execute_result"
    }
   ],
   "source": [
    "sentiment = predict(X_test_sentiment[:2], sentiment_model_weights, sentiment_model_bias)\n",
    "sentiment"
   ]
  },
  {
   "cell_type": "code",
   "execution_count": 264,
   "metadata": {},
   "outputs": [
    {
     "name": "stdout",
     "output_type": "stream",
     "text": [
      "0    I initially had trouble deciding between the p...\n",
      "1    Allow me to preface this with a little history...\n",
      "Name: reviews, dtype: object\n",
      "0    1\n",
      "1    1\n",
      "Name: sentiment, dtype: int64\n"
     ]
    }
   ],
   "source": [
    "print(products['reviews'][:2])\n",
    "print(products['sentiment'][:2])"
   ]
  },
  {
   "cell_type": "markdown",
   "metadata": {},
   "source": [
    "Now that we have fitted the model, we can inspect the weights (coefficients) as follows:"
   ]
  },
  {
   "cell_type": "code",
   "execution_count": 265,
   "metadata": {},
   "outputs": [
    {
     "name": "stdout",
     "output_type": "stream",
     "text": [
      "[2.44833200e-07 2.44833200e-07 4.89666400e-07 ... 2.04747084e-06\n",
      " 0.00000000e+00 6.90442180e-07]\n",
      "0.0035029639740632493\n"
     ]
    }
   ],
   "source": [
    "print(sentiment_model_weights)\n",
    "print(sentiment_model_bias)"
   ]
  },
  {
   "cell_type": "markdown",
   "metadata": {},
   "source": [
    "There are a total of `6750` coefficients in the model. Recall from the lecture that positive weights $w_j$ correspond to weights that cause positive sentiment, while negative weights correspond to negative sentiment. "
   ]
  },
  {
   "cell_type": "code",
   "execution_count": 266,
   "metadata": {},
   "outputs": [
    {
     "name": "stdout",
     "output_type": "stream",
     "text": [
      "Number of positive weights: 5978 \n",
      "Number of negative weights: 504 \n"
     ]
    }
   ],
   "source": [
    "num_positive_weights = np.sum(sentiment_model_weights >= 0)\n",
    "num_negative_weights = np.sum(sentiment_model_weights < 0)\n",
    "\n",
    "print(\"Number of positive weights: %s \" % num_positive_weights)\n",
    "print(\"Number of negative weights: %s \" % num_negative_weights)"
   ]
  },
  {
   "cell_type": "markdown",
   "metadata": {},
   "source": [
    "**Discussion Question:** How many weights are >= 0?"
   ]
  },
  {
   "cell_type": "markdown",
   "metadata": {},
   "source": [
    "Compare model to sklearn logistic regression "
   ]
  },
  {
   "cell_type": "code",
   "execution_count": 267,
   "metadata": {},
   "outputs": [
    {
     "data": {
      "text/html": [
       "<style>#sk-container-id-4 {color: black;background-color: white;}#sk-container-id-4 pre{padding: 0;}#sk-container-id-4 div.sk-toggleable {background-color: white;}#sk-container-id-4 label.sk-toggleable__label {cursor: pointer;display: block;width: 100%;margin-bottom: 0;padding: 0.3em;box-sizing: border-box;text-align: center;}#sk-container-id-4 label.sk-toggleable__label-arrow:before {content: \"▸\";float: left;margin-right: 0.25em;color: #696969;}#sk-container-id-4 label.sk-toggleable__label-arrow:hover:before {color: black;}#sk-container-id-4 div.sk-estimator:hover label.sk-toggleable__label-arrow:before {color: black;}#sk-container-id-4 div.sk-toggleable__content {max-height: 0;max-width: 0;overflow: hidden;text-align: left;background-color: #f0f8ff;}#sk-container-id-4 div.sk-toggleable__content pre {margin: 0.2em;color: black;border-radius: 0.25em;background-color: #f0f8ff;}#sk-container-id-4 input.sk-toggleable__control:checked~div.sk-toggleable__content {max-height: 200px;max-width: 100%;overflow: auto;}#sk-container-id-4 input.sk-toggleable__control:checked~label.sk-toggleable__label-arrow:before {content: \"▾\";}#sk-container-id-4 div.sk-estimator input.sk-toggleable__control:checked~label.sk-toggleable__label {background-color: #d4ebff;}#sk-container-id-4 div.sk-label input.sk-toggleable__control:checked~label.sk-toggleable__label {background-color: #d4ebff;}#sk-container-id-4 input.sk-hidden--visually {border: 0;clip: rect(1px 1px 1px 1px);clip: rect(1px, 1px, 1px, 1px);height: 1px;margin: -1px;overflow: hidden;padding: 0;position: absolute;width: 1px;}#sk-container-id-4 div.sk-estimator {font-family: monospace;background-color: #f0f8ff;border: 1px dotted black;border-radius: 0.25em;box-sizing: border-box;margin-bottom: 0.5em;}#sk-container-id-4 div.sk-estimator:hover {background-color: #d4ebff;}#sk-container-id-4 div.sk-parallel-item::after {content: \"\";width: 100%;border-bottom: 1px solid gray;flex-grow: 1;}#sk-container-id-4 div.sk-label:hover label.sk-toggleable__label {background-color: #d4ebff;}#sk-container-id-4 div.sk-serial::before {content: \"\";position: absolute;border-left: 1px solid gray;box-sizing: border-box;top: 0;bottom: 0;left: 50%;z-index: 0;}#sk-container-id-4 div.sk-serial {display: flex;flex-direction: column;align-items: center;background-color: white;padding-right: 0.2em;padding-left: 0.2em;position: relative;}#sk-container-id-4 div.sk-item {position: relative;z-index: 1;}#sk-container-id-4 div.sk-parallel {display: flex;align-items: stretch;justify-content: center;background-color: white;position: relative;}#sk-container-id-4 div.sk-item::before, #sk-container-id-4 div.sk-parallel-item::before {content: \"\";position: absolute;border-left: 1px solid gray;box-sizing: border-box;top: 0;bottom: 0;left: 50%;z-index: -1;}#sk-container-id-4 div.sk-parallel-item {display: flex;flex-direction: column;z-index: 1;position: relative;background-color: white;}#sk-container-id-4 div.sk-parallel-item:first-child::after {align-self: flex-end;width: 50%;}#sk-container-id-4 div.sk-parallel-item:last-child::after {align-self: flex-start;width: 50%;}#sk-container-id-4 div.sk-parallel-item:only-child::after {width: 0;}#sk-container-id-4 div.sk-dashed-wrapped {border: 1px dashed gray;margin: 0 0.4em 0.5em 0.4em;box-sizing: border-box;padding-bottom: 0.4em;background-color: white;}#sk-container-id-4 div.sk-label label {font-family: monospace;font-weight: bold;display: inline-block;line-height: 1.2em;}#sk-container-id-4 div.sk-label-container {text-align: center;}#sk-container-id-4 div.sk-container {/* jupyter's `normalize.less` sets `[hidden] { display: none; }` but bootstrap.min.css set `[hidden] { display: none !important; }` so we also need the `!important` here to be able to override the default hidden behavior on the sphinx rendered scikit-learn.org. See: https://github.com/scikit-learn/scikit-learn/issues/21755 */display: inline-block !important;position: relative;}#sk-container-id-4 div.sk-text-repr-fallback {display: none;}</style><div id=\"sk-container-id-4\" class=\"sk-top-container\"><div class=\"sk-text-repr-fallback\"><pre>LogisticRegression(random_state=0, tol=0.001)</pre><b>In a Jupyter environment, please rerun this cell to show the HTML representation or trust the notebook. <br />On GitHub, the HTML representation is unable to render, please try loading this page with nbviewer.org.</b></div><div class=\"sk-container\" hidden><div class=\"sk-item\"><div class=\"sk-estimator sk-toggleable\"><input class=\"sk-toggleable__control sk-hidden--visually\" id=\"sk-estimator-id-4\" type=\"checkbox\" checked><label for=\"sk-estimator-id-4\" class=\"sk-toggleable__label sk-toggleable__label-arrow\">LogisticRegression</label><div class=\"sk-toggleable__content\"><pre>LogisticRegression(random_state=0, tol=0.001)</pre></div></div></div></div></div>"
      ],
      "text/plain": [
       "LogisticRegression(random_state=0, tol=0.001)"
      ]
     },
     "execution_count": 267,
     "metadata": {},
     "output_type": "execute_result"
    }
   ],
   "source": [
    "# Create model using sklearn\n",
    "from sklearn.linear_model import LogisticRegression\n",
    "num_iterations=100\n",
    "sentiment_model = LogisticRegression(random_state=0, max_iter=num_iterations, tol=1e-3)\n",
    "sentiment_model.fit(X_train_sentiment.to_numpy(), np.ravel(y_train))"
   ]
  },
  {
   "cell_type": "code",
   "execution_count": 268,
   "metadata": {},
   "outputs": [
    {
     "data": {
      "text/html": [
       "<div>\n",
       "<style scoped>\n",
       "    .dataframe tbody tr th:only-of-type {\n",
       "        vertical-align: middle;\n",
       "    }\n",
       "\n",
       "    .dataframe tbody tr th {\n",
       "        vertical-align: top;\n",
       "    }\n",
       "\n",
       "    .dataframe thead th {\n",
       "        text-align: right;\n",
       "    }\n",
       "</style>\n",
       "<table border=\"1\" class=\"dataframe\">\n",
       "  <thead>\n",
       "    <tr style=\"text-align: right;\">\n",
       "      <th></th>\n",
       "      <th>tfidf_word_count_tf_idf_word_count_0</th>\n",
       "      <th>tfidf_word_count_tf_idf_word_count_1</th>\n",
       "      <th>tfidf_word_count_tf_idf_word_count_2</th>\n",
       "      <th>tfidf_word_count_tf_idf_word_count_3</th>\n",
       "      <th>tfidf_word_count_tf_idf_word_count_4</th>\n",
       "      <th>tfidf_word_count_tf_idf_word_count_5</th>\n",
       "      <th>tfidf_word_count_tf_idf_word_count_6</th>\n",
       "      <th>tfidf_word_count_tf_idf_word_count_7</th>\n",
       "      <th>tfidf_word_count_tf_idf_word_count_8</th>\n",
       "      <th>tfidf_word_count_tf_idf_word_count_9</th>\n",
       "      <th>...</th>\n",
       "      <th>tfidf_word_count_tf_idf_word_count_6472</th>\n",
       "      <th>tfidf_word_count_tf_idf_word_count_6473</th>\n",
       "      <th>tfidf_word_count_tf_idf_word_count_6474</th>\n",
       "      <th>tfidf_word_count_tf_idf_word_count_6475</th>\n",
       "      <th>tfidf_word_count_tf_idf_word_count_6476</th>\n",
       "      <th>tfidf_word_count_tf_idf_word_count_6477</th>\n",
       "      <th>tfidf_word_count_tf_idf_word_count_6478</th>\n",
       "      <th>tfidf_word_count_tf_idf_word_count_6479</th>\n",
       "      <th>tfidf_word_count_tf_idf_word_count_6480</th>\n",
       "      <th>tfidf_word_count_tf_idf_word_count_6481</th>\n",
       "    </tr>\n",
       "  </thead>\n",
       "  <tbody>\n",
       "    <tr>\n",
       "      <th>955</th>\n",
       "      <td>0.0</td>\n",
       "      <td>0.0</td>\n",
       "      <td>0.0</td>\n",
       "      <td>0.0</td>\n",
       "      <td>0.0</td>\n",
       "      <td>0.0</td>\n",
       "      <td>0.0</td>\n",
       "      <td>0.0</td>\n",
       "      <td>0.0</td>\n",
       "      <td>0.0</td>\n",
       "      <td>...</td>\n",
       "      <td>0.0</td>\n",
       "      <td>0.0</td>\n",
       "      <td>0.0</td>\n",
       "      <td>0.0</td>\n",
       "      <td>0.0</td>\n",
       "      <td>0.0</td>\n",
       "      <td>0.0</td>\n",
       "      <td>0.0</td>\n",
       "      <td>0.0</td>\n",
       "      <td>0.0</td>\n",
       "    </tr>\n",
       "    <tr>\n",
       "      <th>701</th>\n",
       "      <td>0.0</td>\n",
       "      <td>0.0</td>\n",
       "      <td>0.0</td>\n",
       "      <td>0.0</td>\n",
       "      <td>0.0</td>\n",
       "      <td>0.0</td>\n",
       "      <td>0.0</td>\n",
       "      <td>0.0</td>\n",
       "      <td>0.0</td>\n",
       "      <td>0.0</td>\n",
       "      <td>...</td>\n",
       "      <td>0.0</td>\n",
       "      <td>0.0</td>\n",
       "      <td>0.0</td>\n",
       "      <td>0.0</td>\n",
       "      <td>0.0</td>\n",
       "      <td>0.0</td>\n",
       "      <td>0.0</td>\n",
       "      <td>0.0</td>\n",
       "      <td>0.0</td>\n",
       "      <td>0.0</td>\n",
       "    </tr>\n",
       "    <tr>\n",
       "      <th>745</th>\n",
       "      <td>0.0</td>\n",
       "      <td>0.0</td>\n",
       "      <td>0.0</td>\n",
       "      <td>0.0</td>\n",
       "      <td>0.0</td>\n",
       "      <td>0.0</td>\n",
       "      <td>0.0</td>\n",
       "      <td>0.0</td>\n",
       "      <td>0.0</td>\n",
       "      <td>0.0</td>\n",
       "      <td>...</td>\n",
       "      <td>0.0</td>\n",
       "      <td>0.0</td>\n",
       "      <td>0.0</td>\n",
       "      <td>0.0</td>\n",
       "      <td>0.0</td>\n",
       "      <td>0.0</td>\n",
       "      <td>0.0</td>\n",
       "      <td>0.0</td>\n",
       "      <td>0.0</td>\n",
       "      <td>0.0</td>\n",
       "    </tr>\n",
       "    <tr>\n",
       "      <th>293</th>\n",
       "      <td>0.0</td>\n",
       "      <td>0.0</td>\n",
       "      <td>0.0</td>\n",
       "      <td>0.0</td>\n",
       "      <td>0.0</td>\n",
       "      <td>0.0</td>\n",
       "      <td>0.0</td>\n",
       "      <td>0.0</td>\n",
       "      <td>0.0</td>\n",
       "      <td>0.0</td>\n",
       "      <td>...</td>\n",
       "      <td>0.0</td>\n",
       "      <td>0.0</td>\n",
       "      <td>0.0</td>\n",
       "      <td>0.0</td>\n",
       "      <td>0.0</td>\n",
       "      <td>0.0</td>\n",
       "      <td>0.0</td>\n",
       "      <td>0.0</td>\n",
       "      <td>0.0</td>\n",
       "      <td>0.0</td>\n",
       "    </tr>\n",
       "    <tr>\n",
       "      <th>754</th>\n",
       "      <td>0.0</td>\n",
       "      <td>0.0</td>\n",
       "      <td>0.0</td>\n",
       "      <td>0.0</td>\n",
       "      <td>0.0</td>\n",
       "      <td>0.0</td>\n",
       "      <td>0.0</td>\n",
       "      <td>0.0</td>\n",
       "      <td>0.0</td>\n",
       "      <td>0.0</td>\n",
       "      <td>...</td>\n",
       "      <td>0.0</td>\n",
       "      <td>0.0</td>\n",
       "      <td>0.0</td>\n",
       "      <td>0.0</td>\n",
       "      <td>0.0</td>\n",
       "      <td>0.0</td>\n",
       "      <td>0.0</td>\n",
       "      <td>0.0</td>\n",
       "      <td>0.0</td>\n",
       "      <td>0.0</td>\n",
       "    </tr>\n",
       "    <tr>\n",
       "      <th>...</th>\n",
       "      <td>...</td>\n",
       "      <td>...</td>\n",
       "      <td>...</td>\n",
       "      <td>...</td>\n",
       "      <td>...</td>\n",
       "      <td>...</td>\n",
       "      <td>...</td>\n",
       "      <td>...</td>\n",
       "      <td>...</td>\n",
       "      <td>...</td>\n",
       "      <td>...</td>\n",
       "      <td>...</td>\n",
       "      <td>...</td>\n",
       "      <td>...</td>\n",
       "      <td>...</td>\n",
       "      <td>...</td>\n",
       "      <td>...</td>\n",
       "      <td>...</td>\n",
       "      <td>...</td>\n",
       "      <td>...</td>\n",
       "      <td>...</td>\n",
       "    </tr>\n",
       "    <tr>\n",
       "      <th>960</th>\n",
       "      <td>0.0</td>\n",
       "      <td>0.0</td>\n",
       "      <td>0.0</td>\n",
       "      <td>0.0</td>\n",
       "      <td>0.0</td>\n",
       "      <td>0.0</td>\n",
       "      <td>0.0</td>\n",
       "      <td>0.0</td>\n",
       "      <td>0.0</td>\n",
       "      <td>0.0</td>\n",
       "      <td>...</td>\n",
       "      <td>0.0</td>\n",
       "      <td>0.0</td>\n",
       "      <td>0.0</td>\n",
       "      <td>0.0</td>\n",
       "      <td>0.0</td>\n",
       "      <td>0.0</td>\n",
       "      <td>0.0</td>\n",
       "      <td>0.0</td>\n",
       "      <td>0.0</td>\n",
       "      <td>0.0</td>\n",
       "    </tr>\n",
       "    <tr>\n",
       "      <th>847</th>\n",
       "      <td>0.0</td>\n",
       "      <td>0.0</td>\n",
       "      <td>0.0</td>\n",
       "      <td>0.0</td>\n",
       "      <td>0.0</td>\n",
       "      <td>0.0</td>\n",
       "      <td>0.0</td>\n",
       "      <td>0.0</td>\n",
       "      <td>0.0</td>\n",
       "      <td>0.0</td>\n",
       "      <td>...</td>\n",
       "      <td>0.0</td>\n",
       "      <td>0.0</td>\n",
       "      <td>0.0</td>\n",
       "      <td>0.0</td>\n",
       "      <td>0.0</td>\n",
       "      <td>0.0</td>\n",
       "      <td>0.0</td>\n",
       "      <td>0.0</td>\n",
       "      <td>0.0</td>\n",
       "      <td>0.0</td>\n",
       "    </tr>\n",
       "    <tr>\n",
       "      <th>715</th>\n",
       "      <td>0.0</td>\n",
       "      <td>0.0</td>\n",
       "      <td>0.0</td>\n",
       "      <td>0.0</td>\n",
       "      <td>0.0</td>\n",
       "      <td>0.0</td>\n",
       "      <td>0.0</td>\n",
       "      <td>0.0</td>\n",
       "      <td>0.0</td>\n",
       "      <td>0.0</td>\n",
       "      <td>...</td>\n",
       "      <td>0.0</td>\n",
       "      <td>0.0</td>\n",
       "      <td>0.0</td>\n",
       "      <td>0.0</td>\n",
       "      <td>0.0</td>\n",
       "      <td>0.0</td>\n",
       "      <td>0.0</td>\n",
       "      <td>0.0</td>\n",
       "      <td>0.0</td>\n",
       "      <td>0.0</td>\n",
       "    </tr>\n",
       "    <tr>\n",
       "      <th>905</th>\n",
       "      <td>0.0</td>\n",
       "      <td>0.0</td>\n",
       "      <td>0.0</td>\n",
       "      <td>0.0</td>\n",
       "      <td>0.0</td>\n",
       "      <td>0.0</td>\n",
       "      <td>0.0</td>\n",
       "      <td>0.0</td>\n",
       "      <td>0.0</td>\n",
       "      <td>0.0</td>\n",
       "      <td>...</td>\n",
       "      <td>0.0</td>\n",
       "      <td>0.0</td>\n",
       "      <td>0.0</td>\n",
       "      <td>0.0</td>\n",
       "      <td>0.0</td>\n",
       "      <td>0.0</td>\n",
       "      <td>0.0</td>\n",
       "      <td>0.0</td>\n",
       "      <td>0.0</td>\n",
       "      <td>0.0</td>\n",
       "    </tr>\n",
       "    <tr>\n",
       "      <th>235</th>\n",
       "      <td>0.0</td>\n",
       "      <td>0.0</td>\n",
       "      <td>0.0</td>\n",
       "      <td>0.0</td>\n",
       "      <td>0.0</td>\n",
       "      <td>0.0</td>\n",
       "      <td>0.0</td>\n",
       "      <td>0.0</td>\n",
       "      <td>0.0</td>\n",
       "      <td>0.0</td>\n",
       "      <td>...</td>\n",
       "      <td>0.0</td>\n",
       "      <td>0.0</td>\n",
       "      <td>0.0</td>\n",
       "      <td>0.0</td>\n",
       "      <td>0.0</td>\n",
       "      <td>0.0</td>\n",
       "      <td>0.0</td>\n",
       "      <td>0.0</td>\n",
       "      <td>0.0</td>\n",
       "      <td>0.0</td>\n",
       "    </tr>\n",
       "  </tbody>\n",
       "</table>\n",
       "<p>737 rows × 6482 columns</p>\n",
       "</div>"
      ],
      "text/plain": [
       "     tfidf_word_count_tf_idf_word_count_0  \\\n",
       "955                                   0.0   \n",
       "701                                   0.0   \n",
       "745                                   0.0   \n",
       "293                                   0.0   \n",
       "754                                   0.0   \n",
       "..                                    ...   \n",
       "960                                   0.0   \n",
       "847                                   0.0   \n",
       "715                                   0.0   \n",
       "905                                   0.0   \n",
       "235                                   0.0   \n",
       "\n",
       "     tfidf_word_count_tf_idf_word_count_1  \\\n",
       "955                                   0.0   \n",
       "701                                   0.0   \n",
       "745                                   0.0   \n",
       "293                                   0.0   \n",
       "754                                   0.0   \n",
       "..                                    ...   \n",
       "960                                   0.0   \n",
       "847                                   0.0   \n",
       "715                                   0.0   \n",
       "905                                   0.0   \n",
       "235                                   0.0   \n",
       "\n",
       "     tfidf_word_count_tf_idf_word_count_2  \\\n",
       "955                                   0.0   \n",
       "701                                   0.0   \n",
       "745                                   0.0   \n",
       "293                                   0.0   \n",
       "754                                   0.0   \n",
       "..                                    ...   \n",
       "960                                   0.0   \n",
       "847                                   0.0   \n",
       "715                                   0.0   \n",
       "905                                   0.0   \n",
       "235                                   0.0   \n",
       "\n",
       "     tfidf_word_count_tf_idf_word_count_3  \\\n",
       "955                                   0.0   \n",
       "701                                   0.0   \n",
       "745                                   0.0   \n",
       "293                                   0.0   \n",
       "754                                   0.0   \n",
       "..                                    ...   \n",
       "960                                   0.0   \n",
       "847                                   0.0   \n",
       "715                                   0.0   \n",
       "905                                   0.0   \n",
       "235                                   0.0   \n",
       "\n",
       "     tfidf_word_count_tf_idf_word_count_4  \\\n",
       "955                                   0.0   \n",
       "701                                   0.0   \n",
       "745                                   0.0   \n",
       "293                                   0.0   \n",
       "754                                   0.0   \n",
       "..                                    ...   \n",
       "960                                   0.0   \n",
       "847                                   0.0   \n",
       "715                                   0.0   \n",
       "905                                   0.0   \n",
       "235                                   0.0   \n",
       "\n",
       "     tfidf_word_count_tf_idf_word_count_5  \\\n",
       "955                                   0.0   \n",
       "701                                   0.0   \n",
       "745                                   0.0   \n",
       "293                                   0.0   \n",
       "754                                   0.0   \n",
       "..                                    ...   \n",
       "960                                   0.0   \n",
       "847                                   0.0   \n",
       "715                                   0.0   \n",
       "905                                   0.0   \n",
       "235                                   0.0   \n",
       "\n",
       "     tfidf_word_count_tf_idf_word_count_6  \\\n",
       "955                                   0.0   \n",
       "701                                   0.0   \n",
       "745                                   0.0   \n",
       "293                                   0.0   \n",
       "754                                   0.0   \n",
       "..                                    ...   \n",
       "960                                   0.0   \n",
       "847                                   0.0   \n",
       "715                                   0.0   \n",
       "905                                   0.0   \n",
       "235                                   0.0   \n",
       "\n",
       "     tfidf_word_count_tf_idf_word_count_7  \\\n",
       "955                                   0.0   \n",
       "701                                   0.0   \n",
       "745                                   0.0   \n",
       "293                                   0.0   \n",
       "754                                   0.0   \n",
       "..                                    ...   \n",
       "960                                   0.0   \n",
       "847                                   0.0   \n",
       "715                                   0.0   \n",
       "905                                   0.0   \n",
       "235                                   0.0   \n",
       "\n",
       "     tfidf_word_count_tf_idf_word_count_8  \\\n",
       "955                                   0.0   \n",
       "701                                   0.0   \n",
       "745                                   0.0   \n",
       "293                                   0.0   \n",
       "754                                   0.0   \n",
       "..                                    ...   \n",
       "960                                   0.0   \n",
       "847                                   0.0   \n",
       "715                                   0.0   \n",
       "905                                   0.0   \n",
       "235                                   0.0   \n",
       "\n",
       "     tfidf_word_count_tf_idf_word_count_9  ...  \\\n",
       "955                                   0.0  ...   \n",
       "701                                   0.0  ...   \n",
       "745                                   0.0  ...   \n",
       "293                                   0.0  ...   \n",
       "754                                   0.0  ...   \n",
       "..                                    ...  ...   \n",
       "960                                   0.0  ...   \n",
       "847                                   0.0  ...   \n",
       "715                                   0.0  ...   \n",
       "905                                   0.0  ...   \n",
       "235                                   0.0  ...   \n",
       "\n",
       "     tfidf_word_count_tf_idf_word_count_6472  \\\n",
       "955                                      0.0   \n",
       "701                                      0.0   \n",
       "745                                      0.0   \n",
       "293                                      0.0   \n",
       "754                                      0.0   \n",
       "..                                       ...   \n",
       "960                                      0.0   \n",
       "847                                      0.0   \n",
       "715                                      0.0   \n",
       "905                                      0.0   \n",
       "235                                      0.0   \n",
       "\n",
       "     tfidf_word_count_tf_idf_word_count_6473  \\\n",
       "955                                      0.0   \n",
       "701                                      0.0   \n",
       "745                                      0.0   \n",
       "293                                      0.0   \n",
       "754                                      0.0   \n",
       "..                                       ...   \n",
       "960                                      0.0   \n",
       "847                                      0.0   \n",
       "715                                      0.0   \n",
       "905                                      0.0   \n",
       "235                                      0.0   \n",
       "\n",
       "     tfidf_word_count_tf_idf_word_count_6474  \\\n",
       "955                                      0.0   \n",
       "701                                      0.0   \n",
       "745                                      0.0   \n",
       "293                                      0.0   \n",
       "754                                      0.0   \n",
       "..                                       ...   \n",
       "960                                      0.0   \n",
       "847                                      0.0   \n",
       "715                                      0.0   \n",
       "905                                      0.0   \n",
       "235                                      0.0   \n",
       "\n",
       "     tfidf_word_count_tf_idf_word_count_6475  \\\n",
       "955                                      0.0   \n",
       "701                                      0.0   \n",
       "745                                      0.0   \n",
       "293                                      0.0   \n",
       "754                                      0.0   \n",
       "..                                       ...   \n",
       "960                                      0.0   \n",
       "847                                      0.0   \n",
       "715                                      0.0   \n",
       "905                                      0.0   \n",
       "235                                      0.0   \n",
       "\n",
       "     tfidf_word_count_tf_idf_word_count_6476  \\\n",
       "955                                      0.0   \n",
       "701                                      0.0   \n",
       "745                                      0.0   \n",
       "293                                      0.0   \n",
       "754                                      0.0   \n",
       "..                                       ...   \n",
       "960                                      0.0   \n",
       "847                                      0.0   \n",
       "715                                      0.0   \n",
       "905                                      0.0   \n",
       "235                                      0.0   \n",
       "\n",
       "     tfidf_word_count_tf_idf_word_count_6477  \\\n",
       "955                                      0.0   \n",
       "701                                      0.0   \n",
       "745                                      0.0   \n",
       "293                                      0.0   \n",
       "754                                      0.0   \n",
       "..                                       ...   \n",
       "960                                      0.0   \n",
       "847                                      0.0   \n",
       "715                                      0.0   \n",
       "905                                      0.0   \n",
       "235                                      0.0   \n",
       "\n",
       "     tfidf_word_count_tf_idf_word_count_6478  \\\n",
       "955                                      0.0   \n",
       "701                                      0.0   \n",
       "745                                      0.0   \n",
       "293                                      0.0   \n",
       "754                                      0.0   \n",
       "..                                       ...   \n",
       "960                                      0.0   \n",
       "847                                      0.0   \n",
       "715                                      0.0   \n",
       "905                                      0.0   \n",
       "235                                      0.0   \n",
       "\n",
       "     tfidf_word_count_tf_idf_word_count_6479  \\\n",
       "955                                      0.0   \n",
       "701                                      0.0   \n",
       "745                                      0.0   \n",
       "293                                      0.0   \n",
       "754                                      0.0   \n",
       "..                                       ...   \n",
       "960                                      0.0   \n",
       "847                                      0.0   \n",
       "715                                      0.0   \n",
       "905                                      0.0   \n",
       "235                                      0.0   \n",
       "\n",
       "     tfidf_word_count_tf_idf_word_count_6480  \\\n",
       "955                                      0.0   \n",
       "701                                      0.0   \n",
       "745                                      0.0   \n",
       "293                                      0.0   \n",
       "754                                      0.0   \n",
       "..                                       ...   \n",
       "960                                      0.0   \n",
       "847                                      0.0   \n",
       "715                                      0.0   \n",
       "905                                      0.0   \n",
       "235                                      0.0   \n",
       "\n",
       "     tfidf_word_count_tf_idf_word_count_6481  \n",
       "955                                      0.0  \n",
       "701                                      0.0  \n",
       "745                                      0.0  \n",
       "293                                      0.0  \n",
       "754                                      0.0  \n",
       "..                                       ...  \n",
       "960                                      0.0  \n",
       "847                                      0.0  \n",
       "715                                      0.0  \n",
       "905                                      0.0  \n",
       "235                                      0.0  \n",
       "\n",
       "[737 rows x 6482 columns]"
      ]
     },
     "execution_count": 268,
     "metadata": {},
     "output_type": "execute_result"
    }
   ],
   "source": [
    "X_train_sentiment"
   ]
  },
  {
   "cell_type": "code",
   "execution_count": 269,
   "metadata": {},
   "outputs": [
    {
     "name": "stdout",
     "output_type": "stream",
     "text": [
      "Number of positive weights: 5675 \n",
      "Number of negative weights: 807 \n"
     ]
    }
   ],
   "source": [
    "num_positive_weights = np.sum(sentiment_model.coef_ >= 0)\n",
    "num_negative_weights = np.sum(sentiment_model.coef_ < 0)\n",
    "\n",
    "print(\"Number of positive weights: %s \" % num_positive_weights)\n",
    "print(\"Number of negative weights: %s \" % num_negative_weights)"
   ]
  },
  {
   "cell_type": "markdown",
   "metadata": {},
   "source": [
    "## Compute accuracy of the classifier\n",
    "\n",
    "We will now evaluate the accuracy of the trained classifier. Recall that the accuracy is given by\n",
    "\n",
    "$$\n",
    "accuracy = \\frac{\\textnormal{number of correctly classified examples}}{\\textnormal{number of total examples}}\n",
    "$$\n",
    "  \n",
    "This can be computed as follows:\n",
    "\n",
    "* **Step 1:** Use the trained model to compute class predictions (**Hint:** Use the `predict` method)\n",
    "* **Step 2:** Count the number of data points when the predicted class labels match the ground truth labels (called `true_labels` below).\n",
    "* **Step 3:** Divide the total number of correct predictions by the total number of data points in the dataset.\n",
    "\n",
    "Complete the function below to compute the classification accuracy:"
   ]
  },
  {
   "cell_type": "code",
   "execution_count": 270,
   "metadata": {},
   "outputs": [],
   "source": [
    "def get_classification_accuracy(prediction_labels, true_labels):    \n",
    "    # Compute the number of correctly classified examples\n",
    "    num_correct = np.sum(prediction_labels == true_labels)\n",
    "\n",
    "    # Then compute accuracy by dividing num_correct by total number of examples\n",
    "    accuracy = num_correct / len(true_labels)\n",
    "    return accuracy"
   ]
  },
  {
   "cell_type": "code",
   "execution_count": 271,
   "metadata": {},
   "outputs": [
    {
     "name": "stdout",
     "output_type": "stream",
     "text": [
      "0.9253731343283582\n"
     ]
    }
   ],
   "source": [
    "accuracy = get_classification_accuracy(predict(X_train_sentiment.to_numpy(), sentiment_model_weights, sentiment_model_bias), \n",
    "                                       np.ravel(y_train))\n",
    "print(accuracy)"
   ]
  },
  {
   "cell_type": "code",
   "execution_count": 272,
   "metadata": {},
   "outputs": [
    {
     "name": "stdout",
     "output_type": "stream",
     "text": [
      "0.9335443037974683\n"
     ]
    }
   ],
   "source": [
    "accuracy = get_classification_accuracy(predict(X_test_sentiment.to_numpy(), sentiment_model_weights, sentiment_model_bias), \n",
    "                                       np.ravel(y_test))\n",
    "print(accuracy)"
   ]
  },
  {
   "cell_type": "code",
   "execution_count": 273,
   "metadata": {},
   "outputs": [
    {
     "name": "stdout",
     "output_type": "stream",
     "text": [
      "0.9253731343283582\n"
     ]
    },
    {
     "name": "stderr",
     "output_type": "stream",
     "text": [
      "/opt/homebrew/lib/python3.9/site-packages/sklearn/base.py:402: UserWarning: X has feature names, but LogisticRegression was fitted without feature names\n",
      "  warnings.warn(\n"
     ]
    }
   ],
   "source": [
    "accuracy = get_classification_accuracy(sentiment_model.predict(X_train_sentiment), \n",
    "                                       np.ravel(y_train))\n",
    "print(accuracy)"
   ]
  },
  {
   "cell_type": "code",
   "execution_count": 274,
   "metadata": {},
   "outputs": [
    {
     "name": "stdout",
     "output_type": "stream",
     "text": [
      "0.9335443037974683\n"
     ]
    },
    {
     "name": "stderr",
     "output_type": "stream",
     "text": [
      "/opt/homebrew/lib/python3.9/site-packages/sklearn/base.py:402: UserWarning: X has feature names, but LogisticRegression was fitted without feature names\n",
      "  warnings.warn(\n"
     ]
    }
   ],
   "source": [
    "accuracy = get_classification_accuracy(sentiment_model.predict(X_test_sentiment), \n",
    "                                       np.ravel(y_test))\n",
    "print(accuracy)"
   ]
  },
  {
   "cell_type": "markdown",
   "metadata": {},
   "source": [
    "# Plot Log Likelihood "
   ]
  },
  {
   "cell_type": "code",
   "execution_count": 275,
   "metadata": {},
   "outputs": [
    {
     "data": {
      "text/plain": [
       "100"
      ]
     },
     "execution_count": 275,
     "metadata": {},
     "output_type": "execute_result"
    }
   ],
   "source": [
    "len(likelihood_history)"
   ]
  },
  {
   "cell_type": "code",
   "execution_count": 276,
   "metadata": {},
   "outputs": [
    {
     "data": {
      "image/png": "[encoded data removed]",
      "text/plain": [
       "<Figure size 700x500 with 1 Axes>"
      ]
     },
     "metadata": {},
     "output_type": "display_data"
    }
   ],
   "source": [
    "import matplotlib.pyplot as plt\n",
    "\n",
    "plt.scatter(np.arange(0,len(likelihood_history),1), likelihood_history, color = 'blue') \n",
    "plt.title('Log Likelihood vs Training Iteration') \n",
    "plt.xlabel('Training Iterations') \n",
    "plt.ylabel('Log Likelihood') \n",
    "plt.show() "
   ]
  },
  {
   "cell_type": "markdown",
   "metadata": {},
   "source": [
    "# Effect of learning rate"
   ]
  },
  {
   "cell_type": "code",
   "execution_count": 277,
   "metadata": {},
   "outputs": [],
   "source": [
    "import matplotlib.pyplot as plt\n",
    "import matplotlib.colors as mcolors\n",
    "\n",
    "def plot_series(data, x_title, y_title, para1, para2, legend_label='iteration '):\n",
    "    colors = mcolors.TABLEAU_COLORS\n",
    "\n",
    "    # Sort colors by hue, saturation, value and name.\n",
    "    names = sorted(\n",
    "        colors, key=lambda c: tuple(mcolors.rgb_to_hsv(mcolors.to_rgb(c))))\n",
    "    # Plot cost of training iterations\n",
    "    j=0    \n",
    "    for i in range(para1,len(data),para2):\n",
    "        plt.plot(np.arange(0,len(data[i]),1), data[i], color = names[j], label=legend_label+str(i))\n",
    "        if(j>=len(names)-1):\n",
    "            j=0\n",
    "        else:\n",
    "            j+=1\n",
    "    plt.title(y_title+' vs '+x_title+' Iteration') \n",
    "    plt.xlabel(x_title) \n",
    "    plt.ylabel(y_title) \n",
    "    plt.legend()\n",
    "    plt.show() "
   ]
  },
  {
   "cell_type": "code",
   "execution_count": 278,
   "metadata": {},
   "outputs": [],
   "source": [
    "# Hyper-parameters\n",
    "learning_rate=0.00001\n",
    "num_iterations=100"
   ]
  },
  {
   "cell_type": "code",
   "execution_count": 279,
   "metadata": {},
   "outputs": [],
   "source": [
    "weights_list=[]\n",
    "likelihood_history = []\n",
    "for lr in range(1,50,1):\n",
    "    learning_rate=lr/100000\n",
    "    weights, bias, log_lik = fit(X_train_sentiment.to_numpy(), np.ravel(y_train), num_iterations, learning_rate)\n",
    "    likelihood_history.append(log_lik)"
   ]
  },
  {
   "cell_type": "code",
   "execution_count": 280,
   "metadata": {},
   "outputs": [
    {
     "data": {
      "text/plain": [
       "100"
      ]
     },
     "execution_count": 280,
     "metadata": {},
     "output_type": "execute_result"
    }
   ],
   "source": [
    "len(likelihood_history[0])"
   ]
  },
  {
   "cell_type": "code",
   "execution_count": 281,
   "metadata": {},
   "outputs": [
    {
     "data": {
      "image/png": "[encoded data removed]",
      "text/plain": [
       "<Figure size 700x500 with 1 Axes>"
      ]
     },
     "metadata": {},
     "output_type": "display_data"
    }
   ],
   "source": [
    "plot_series(likelihood_history, 'Training Iteration', 'Log Likelihood', 0, 10, legend_label='lr-')"
   ]
  },
  {
   "cell_type": "markdown",
   "metadata": {},
   "source": [
    "# Find the most positive (and negative) review"
   ]
  },
  {
   "cell_type": "markdown",
   "metadata": {},
   "source": [
    "We now turn to examining the full test dataset, **test_data**, and use Numpy argsort to form predictions on all of the test data points for faster performance.\n",
    "\n",
    "Using the `sentiment_model`, find the 20 reviews in the entire **test_data** with the **highest probability** of being classified as a **positive review**. We refer to these as the \"most positive reviews.\"\n",
    "\n",
    "To calculate these top-20 reviews, use the following steps:\n",
    "1.  Make probability predictions on **test_data** using the `sentiment_model`. (**Hint:** When you call `.predict` to make predictions on the test data.)\n",
    "2.  Sort the data according to those predictions and pick the top 20. (**Hint:** You can use indexing [-topn:] to find the top k rows sorted according to the value of a specified column.)"
   ]
  },
  {
   "cell_type": "code",
   "execution_count": 282,
   "metadata": {},
   "outputs": [
    {
     "name": "stdout",
     "output_type": "stream",
     "text": [
      "[138 305  61 231  72 242 260  95 215 182   6  26 307 291   9 177 116 149\n",
      " 207  16]\n",
      "                                                reviews  rating  \\\n",
      "215                            First rate  high quality     5.0   \n",
      "529   were early in the stages of home smartness but...     4.0   \n",
      "963   This was a complete waste of 24 I read reviews...     1.0   \n",
      "581   I havent figured it out yet So far it seems ok...     4.0   \n",
      "756   We bought to give away at a Halloween party We...     5.0   \n",
      "264   its a nice color it fits the fire8 very well h...     4.0   \n",
      "605   My son requested this a a birthday gift He is ...     5.0   \n",
      "1033  I dont know whats wrong with fire tv remotes b...     1.0   \n",
      "84    The connection drops out on this unit pretty b...     1.0   \n",
      "552   I first boughy alezxa from amazon and found th...     5.0   \n",
      "1039  My remote went out just a couple weeks after w...     2.0   \n",
      "258   This is a horrible an overpriced case Ive had ...     1.0   \n",
      "965   Ordered on April 16th installed on my phone on...     1.0   \n",
      "720   With this you have someone to talk to and answ...     5.0   \n",
      "1037  These remotes are terrible and basically dispo...     1.0   \n",
      "459   We now have one for everyone in the family and...     5.0   \n",
      "1035  Purchased the replacement controll because the...     1.0   \n",
      "216   Reliable and wellregulated for dual voltage 11...     5.0   \n",
      "8     Vraiment bon petit appareil  lger et facile d ...     4.0   \n",
      "133                                           Excelente     5.0   \n",
      "\n",
      "                                                  title  tf_idf_word_count_0  \\\n",
      "215                         First rate - high quality!!                  0.0   \n",
      "529                                               Solid                  0.0   \n",
      "963                                 a piece of plastic!                  0.0   \n",
      "581                                              Unsure                  0.0   \n",
      "756                                           Great Buy                  0.0   \n",
      "264   it's a nice color, it fits the fire8 very well...                  0.0   \n",
      "605                                         Fun product                  0.0   \n",
      "1033                       Amazon fire tv remote sucks!                  0.0   \n",
      "84    This needs to be way better for the amount I s...                  0.0   \n",
      "552                Great. I returned Alexxa and love it                  0.0   \n",
      "1039  Shouldn't have to settle for a Phone App or pa...                  0.0   \n",
      "258                      Don't waste your money on this                  0.0   \n",
      "965   Worked great... For less than two months. One ...                  0.0   \n",
      "720                                           It a must                  0.0   \n",
      "1037                                        Disposable.                  0.0   \n",
      "459                                             Love It                  0.0   \n",
      "1035                     Faulty remote, short life span                  0.0   \n",
      "216   Regulated USB Power Supply One person found th...                  0.0   \n",
      "8                                            Un plaisir                  0.0   \n",
      "133                                          Five Stars                  0.0   \n",
      "\n",
      "      tf_idf_word_count_1  tf_idf_word_count_2  tf_idf_word_count_3  \\\n",
      "215                   0.0                  0.0                  0.0   \n",
      "529                   0.0                  0.0                  0.0   \n",
      "963                   0.0                  0.0                  0.0   \n",
      "581                   0.0                  0.0                  0.0   \n",
      "756                   0.0                  0.0                  0.0   \n",
      "264                   0.0                  0.0                  0.0   \n",
      "605                   0.0                  0.0                  0.0   \n",
      "1033                  0.0                  0.0                  0.0   \n",
      "84                    0.0                  0.0                  0.0   \n",
      "552                   0.0                  0.0                  0.0   \n",
      "1039                  0.0                  0.0                  0.0   \n",
      "258                   0.0                  0.0                  0.0   \n",
      "965                   0.0                  0.0                  0.0   \n",
      "720                   0.0                  0.0                  0.0   \n",
      "1037                  0.0                  0.0                  0.0   \n",
      "459                   0.0                  0.0                  0.0   \n",
      "1035                  0.0                  0.0                  0.0   \n",
      "216                   0.0                  0.0                  0.0   \n",
      "8                     0.0                  0.0                  0.0   \n",
      "133                   0.0                  0.0                  0.0   \n",
      "\n",
      "      tf_idf_word_count_4  tf_idf_word_count_5  tf_idf_word_count_6  ...  \\\n",
      "215                   0.0                  0.0                  0.0  ...   \n",
      "529                   0.0                  0.0                  0.0  ...   \n",
      "963                   0.0                  0.0                  0.0  ...   \n",
      "581                   0.0                  0.0                  0.0  ...   \n",
      "756                   0.0                  0.0                  0.0  ...   \n",
      "264                   0.0                  0.0                  0.0  ...   \n",
      "605                   0.0                  0.0                  0.0  ...   \n",
      "1033                  0.0                  0.0                  0.0  ...   \n",
      "84                    0.0                  0.0                  0.0  ...   \n",
      "552                   0.0                  0.0                  0.0  ...   \n",
      "1039                  0.0                  0.0                  0.0  ...   \n",
      "258                   0.0                  0.0                  0.0  ...   \n",
      "965                   0.0                  0.0                  0.0  ...   \n",
      "720                   0.0                  0.0                  0.0  ...   \n",
      "1037                  0.0                  0.0                  0.0  ...   \n",
      "459                   0.0                  0.0                  0.0  ...   \n",
      "1035                  0.0                  0.0                  0.0  ...   \n",
      "216                   0.0                  0.0                  0.0  ...   \n",
      "8                     0.0                  0.0                  0.0  ...   \n",
      "133                   0.0                  0.0                  0.0  ...   \n",
      "\n",
      "      tfidf_word_count_tf_idf_word_count_6472  \\\n",
      "215                                       0.0   \n",
      "529                                       0.0   \n",
      "963                                       0.0   \n",
      "581                                       0.0   \n",
      "756                                       0.0   \n",
      "264                                       0.0   \n",
      "605                                       0.0   \n",
      "1033                                      0.0   \n",
      "84                                        0.0   \n",
      "552                                       0.0   \n",
      "1039                                      0.0   \n",
      "258                                       0.0   \n",
      "965                                       0.0   \n",
      "720                                       0.0   \n",
      "1037                                      0.0   \n",
      "459                                       0.0   \n",
      "1035                                      0.0   \n",
      "216                                       0.0   \n",
      "8                                         0.0   \n",
      "133                                       0.0   \n",
      "\n",
      "      tfidf_word_count_tf_idf_word_count_6473  \\\n",
      "215                                       0.0   \n",
      "529                                       0.0   \n",
      "963                                       0.0   \n",
      "581                                       0.0   \n",
      "756                                       0.0   \n",
      "264                                       0.0   \n",
      "605                                       0.0   \n",
      "1033                                      0.0   \n",
      "84                                        0.0   \n",
      "552                                       0.0   \n",
      "1039                                      0.0   \n",
      "258                                       0.0   \n",
      "965                                       0.0   \n",
      "720                                       0.0   \n",
      "1037                                      0.0   \n",
      "459                                       0.0   \n",
      "1035                                      0.0   \n",
      "216                                       0.0   \n",
      "8                                         0.0   \n",
      "133                                       0.0   \n",
      "\n",
      "      tfidf_word_count_tf_idf_word_count_6474  \\\n",
      "215                                       0.0   \n",
      "529                                       0.0   \n",
      "963                                       0.0   \n",
      "581                                       0.0   \n",
      "756                                       0.0   \n",
      "264                                       0.0   \n",
      "605                                       0.0   \n",
      "1033                                      0.0   \n",
      "84                                        0.0   \n",
      "552                                       0.0   \n",
      "1039                                      0.0   \n",
      "258                                       0.0   \n",
      "965                                       0.0   \n",
      "720                                       0.0   \n",
      "1037                                      0.0   \n",
      "459                                       0.0   \n",
      "1035                                      0.0   \n",
      "216                                       0.0   \n",
      "8                                         0.0   \n",
      "133                                       0.0   \n",
      "\n",
      "      tfidf_word_count_tf_idf_word_count_6475  \\\n",
      "215                                       0.0   \n",
      "529                                       0.0   \n",
      "963                                       0.0   \n",
      "581                                       0.0   \n",
      "756                                       0.0   \n",
      "264                                       0.0   \n",
      "605                                       0.0   \n",
      "1033                                      0.0   \n",
      "84                                        0.0   \n",
      "552                                       0.0   \n",
      "1039                                      0.0   \n",
      "258                                       0.0   \n",
      "965                                       0.0   \n",
      "720                                       0.0   \n",
      "1037                                      0.0   \n",
      "459                                       0.0   \n",
      "1035                                      0.0   \n",
      "216                                       0.0   \n",
      "8                                         0.0   \n",
      "133                                       0.0   \n",
      "\n",
      "      tfidf_word_count_tf_idf_word_count_6476  \\\n",
      "215                                       0.0   \n",
      "529                                       0.0   \n",
      "963                                       0.0   \n",
      "581                                       0.0   \n",
      "756                                       0.0   \n",
      "264                                       0.0   \n",
      "605                                       0.0   \n",
      "1033                                      0.0   \n",
      "84                                        0.0   \n",
      "552                                       0.0   \n",
      "1039                                      0.0   \n",
      "258                                       0.0   \n",
      "965                                       0.0   \n",
      "720                                       0.0   \n",
      "1037                                      0.0   \n",
      "459                                       0.0   \n",
      "1035                                      0.0   \n",
      "216                                       0.0   \n",
      "8                                         0.0   \n",
      "133                                       0.0   \n",
      "\n",
      "      tfidf_word_count_tf_idf_word_count_6477  \\\n",
      "215                                       0.0   \n",
      "529                                       0.0   \n",
      "963                                       0.0   \n",
      "581                                       0.0   \n",
      "756                                       0.0   \n",
      "264                                       0.0   \n",
      "605                                       0.0   \n",
      "1033                                      0.0   \n",
      "84                                        0.0   \n",
      "552                                       0.0   \n",
      "1039                                      0.0   \n",
      "258                                       0.0   \n",
      "965                                       0.0   \n",
      "720                                       0.0   \n",
      "1037                                      0.0   \n",
      "459                                       0.0   \n",
      "1035                                      0.0   \n",
      "216                                       0.0   \n",
      "8                                         0.0   \n",
      "133                                       0.0   \n",
      "\n",
      "      tfidf_word_count_tf_idf_word_count_6478  \\\n",
      "215                                       0.0   \n",
      "529                                       0.0   \n",
      "963                                       0.0   \n",
      "581                                       0.0   \n",
      "756                                       0.0   \n",
      "264                                       0.0   \n",
      "605                                       0.0   \n",
      "1033                                      0.0   \n",
      "84                                        0.0   \n",
      "552                                       0.0   \n",
      "1039                                      0.0   \n",
      "258                                       0.0   \n",
      "965                                       0.0   \n",
      "720                                       0.0   \n",
      "1037                                      0.0   \n",
      "459                                       0.0   \n",
      "1035                                      0.0   \n",
      "216                                       0.0   \n",
      "8                                         0.0   \n",
      "133                                       0.0   \n",
      "\n",
      "      tfidf_word_count_tf_idf_word_count_6479  \\\n",
      "215                                       0.0   \n",
      "529                                       0.0   \n",
      "963                                       0.0   \n",
      "581                                       0.0   \n",
      "756                                       0.0   \n",
      "264                                       0.0   \n",
      "605                                       0.0   \n",
      "1033                                      0.0   \n",
      "84                                        0.0   \n",
      "552                                       0.0   \n",
      "1039                                      0.0   \n",
      "258                                       0.0   \n",
      "965                                       0.0   \n",
      "720                                       0.0   \n",
      "1037                                      0.0   \n",
      "459                                       0.0   \n",
      "1035                                      0.0   \n",
      "216                                       0.0   \n",
      "8                                         0.0   \n",
      "133                                       0.0   \n",
      "\n",
      "      tfidf_word_count_tf_idf_word_count_6480  \\\n",
      "215                                       0.0   \n",
      "529                                       0.0   \n",
      "963                                       0.0   \n",
      "581                                       0.0   \n",
      "756                                       0.0   \n",
      "264                                       0.0   \n",
      "605                                       0.0   \n",
      "1033                                      0.0   \n",
      "84                                        0.0   \n",
      "552                                       0.0   \n",
      "1039                                      0.0   \n",
      "258                                       0.0   \n",
      "965                                       0.0   \n",
      "720                                       0.0   \n",
      "1037                                      0.0   \n",
      "459                                       0.0   \n",
      "1035                                      0.0   \n",
      "216                                       0.0   \n",
      "8                                         0.0   \n",
      "133                                       0.0   \n",
      "\n",
      "      tfidf_word_count_tf_idf_word_count_6481  \n",
      "215                                       0.0  \n",
      "529                                       0.0  \n",
      "963                                       0.0  \n",
      "581                                       0.0  \n",
      "756                                       0.0  \n",
      "264                                       0.0  \n",
      "605                                       0.0  \n",
      "1033                                      0.0  \n",
      "84                                        0.0  \n",
      "552                                       0.0  \n",
      "1039                                      0.0  \n",
      "258                                       0.0  \n",
      "965                                       0.0  \n",
      "720                                       0.0  \n",
      "1037                                      0.0  \n",
      "459                                       0.0  \n",
      "1035                                      0.0  \n",
      "216                                       0.0  \n",
      "8                                         0.0  \n",
      "133                                       0.0  \n",
      "\n",
      "[20 rows x 12967 columns]\n"
     ]
    }
   ],
   "source": [
    "# Calculate the class probabilities for the test set\n",
    "y_prob = predict_probability(X_test_sentiment.to_numpy(), sentiment_model_weights, b=sentiment_model_bias)\n",
    "\n",
    "# Sort the test set in descending order of their probabilities of being positive\n",
    "idx = np.argsort(-y_prob)\n",
    "\n",
    "# Get the indices of the 20 most positive reviews\n",
    "idx_most_positive = idx[-20:] \n",
    "print(idx_most_positive)\n",
    "\n",
    "# Get the corresponding reviews from the test set\n",
    "most_positive_reviews = X_test.iloc[idx_most_positive]\n",
    "print(most_positive_reviews)"
   ]
  },
  {
   "cell_type": "markdown",
   "metadata": {},
   "source": [
    "**Discussion Question**: Which of the following products are represented in the 20 most positive reviews?\n",
    "\n",
    "\n",
    "Now, let us repeat this exercise to find the \"most negative reviews.\" Use the prediction probabilities to find the  20 reviews in the **test_data** with the **lowest probability** of being classified as a **positive review**. Repeat the same steps above but make sure you **sort in the opposite order**."
   ]
  },
  {
   "cell_type": "code",
   "execution_count": 283,
   "metadata": {
    "scrolled": true
   },
   "outputs": [
    {
     "name": "stdout",
     "output_type": "stream",
     "text": [
      "                                                reviews  rating  \\\n",
      "743   I have an echo tap and a dot Currently my tap ...     5.0   \n",
      "446   This Amazon tap is not only a great Bluetooth ...     5.0   \n",
      "41    Ok first things first I also own a Echo and if...     5.0   \n",
      "90    Ok first things first I also own a Echo and if...     5.0   \n",
      "99    Ok first things first I also own a Echo and if...     5.0   \n",
      "320   For the low price this tablet really does more...     5.0   \n",
      "306   For the low price this tablet really does more...     5.0   \n",
      "309   For the low price this tablet really does more...     5.0   \n",
      "314   For the low price this tablet really does more...     5.0   \n",
      "873   I wanted to get a portable Bluetooth speaker t...     5.0   \n",
      "1021  The volume does not work with the iPhones Plea...     5.0   \n",
      "1024  The volume does not work with the iPhones Plea...     5.0   \n",
      "1004  The volume does not work with the iPhones Plea...     5.0   \n",
      "991   The volume does not work with the iPhones Plea...     5.0   \n",
      "894   Great companion if you already have an echo an...     4.0   \n",
      "1027  I bought these for a couple of reasonsFirst I ...     5.0   \n",
      "1012  I bought these for a couple of reasonsFirst I ...     5.0   \n",
      "1020  I bought these for a couple of reasonsFirst I ...     5.0   \n",
      "1011  I bought these for a couple of reasonsFirst I ...     5.0   \n",
      "1010  I bought these for a couple of reasonsFirst I ...     5.0   \n",
      "\n",
      "                                                  title  tf_idf_word_count_0  \\\n",
      "743                     Like echo without voice prompts                  0.0   \n",
      "446              Awesome, smart little portable speaker                  0.0   \n",
      "41    I also own a Echo and if you own a Echo you wi...                  0.0   \n",
      "90    I also own a Echo and if you own a Echo you wi...                  0.0   \n",
      "99    I also own a Echo and if you own a Echo you wi...                  0.0   \n",
      "320   HD Fire 6 is great for the price! 3,576 people...                  0.0   \n",
      "306   HD Fire 6 is great for the price! 3,566 people...                  0.0   \n",
      "309   HD Fire 6 is great for the price! 3,555 people...                  0.0   \n",
      "314   HD Fire 6 is great for the price! 3,563 people...                  0.0   \n",
      "873                          Awesome speaker with Alexa                  0.0   \n",
      "1021  I would say these are the 'go-to' headphones f...                  0.0   \n",
      "1024  I would say these are the 'go-to' headphones f...                  0.0   \n",
      "1004  I would say these are the 'go-to' headphones f...                  0.0   \n",
      "991   I would say these are the 'go-to' headphones f...                  0.0   \n",
      "894                                             Love it                  0.0   \n",
      "1027  I hate having to shove headphones into my brai...                  0.0   \n",
      "1012  I hate having to shove headphones into my brai...                  0.0   \n",
      "1020  I hate having to shove headphones into my brai...                  0.0   \n",
      "1011  I hate having to shove headphones into my brai...                  0.0   \n",
      "1010  I hate having to shove headphones into my brai...                  0.0   \n",
      "\n",
      "      tf_idf_word_count_1  tf_idf_word_count_2  tf_idf_word_count_3  \\\n",
      "743                   0.0                  0.0                  0.0   \n",
      "446                   0.0                  0.0                  0.0   \n",
      "41                    0.0                  0.0                  0.0   \n",
      "90                    0.0                  0.0                  0.0   \n",
      "99                    0.0                  0.0                  0.0   \n",
      "320                   0.0                  0.0                  0.0   \n",
      "306                   0.0                  0.0                  0.0   \n",
      "309                   0.0                  0.0                  0.0   \n",
      "314                   0.0                  0.0                  0.0   \n",
      "873                   0.0                  0.0                  0.0   \n",
      "1021                  0.0                  0.0                  0.0   \n",
      "1024                  0.0                  0.0                  0.0   \n",
      "1004                  0.0                  0.0                  0.0   \n",
      "991                   0.0                  0.0                  0.0   \n",
      "894                   0.0                  0.0                  0.0   \n",
      "1027                  0.0                  0.0                  0.0   \n",
      "1012                  0.0                  0.0                  0.0   \n",
      "1020                  0.0                  0.0                  0.0   \n",
      "1011                  0.0                  0.0                  0.0   \n",
      "1010                  0.0                  0.0                  0.0   \n",
      "\n",
      "      tf_idf_word_count_4  tf_idf_word_count_5  tf_idf_word_count_6  ...  \\\n",
      "743                   0.0                  0.0                  0.0  ...   \n",
      "446                   0.0                  0.0                  0.0  ...   \n",
      "41                    0.0                  0.0                  0.0  ...   \n",
      "90                    0.0                  0.0                  0.0  ...   \n",
      "99                    0.0                  0.0                  0.0  ...   \n",
      "320                   0.0                  0.0                  0.0  ...   \n",
      "306                   0.0                  0.0                  0.0  ...   \n",
      "309                   0.0                  0.0                  0.0  ...   \n",
      "314                   0.0                  0.0                  0.0  ...   \n",
      "873                   0.0                  0.0                  0.0  ...   \n",
      "1021                  0.0                  0.0                  0.0  ...   \n",
      "1024                  0.0                  0.0                  0.0  ...   \n",
      "1004                  0.0                  0.0                  0.0  ...   \n",
      "991                   0.0                  0.0                  0.0  ...   \n",
      "894                   0.0                  0.0                  0.0  ...   \n",
      "1027                  0.0                  0.0                  0.0  ...   \n",
      "1012                  0.0                  0.0                  0.0  ...   \n",
      "1020                  0.0                  0.0                  0.0  ...   \n",
      "1011                  0.0                  0.0                  0.0  ...   \n",
      "1010                  0.0                  0.0                  0.0  ...   \n",
      "\n",
      "      tfidf_word_count_tf_idf_word_count_6472  \\\n",
      "743                                       0.0   \n",
      "446                                       0.0   \n",
      "41                                        0.0   \n",
      "90                                        0.0   \n",
      "99                                        0.0   \n",
      "320                                       0.0   \n",
      "306                                       0.0   \n",
      "309                                       0.0   \n",
      "314                                       0.0   \n",
      "873                                       0.0   \n",
      "1021                                      0.0   \n",
      "1024                                      0.0   \n",
      "1004                                      0.0   \n",
      "991                                       0.0   \n",
      "894                                       0.0   \n",
      "1027                                      0.0   \n",
      "1012                                      0.0   \n",
      "1020                                      0.0   \n",
      "1011                                      0.0   \n",
      "1010                                      0.0   \n",
      "\n",
      "      tfidf_word_count_tf_idf_word_count_6473  \\\n",
      "743                                  0.000000   \n",
      "446                                  0.079111   \n",
      "41                                   0.000000   \n",
      "90                                   0.000000   \n",
      "99                                   0.000000   \n",
      "320                                  0.000000   \n",
      "306                                  0.000000   \n",
      "309                                  0.000000   \n",
      "314                                  0.000000   \n",
      "873                                  0.000000   \n",
      "1021                                 0.000000   \n",
      "1024                                 0.000000   \n",
      "1004                                 0.000000   \n",
      "991                                  0.000000   \n",
      "894                                  0.000000   \n",
      "1027                                 0.000000   \n",
      "1012                                 0.000000   \n",
      "1020                                 0.000000   \n",
      "1011                                 0.000000   \n",
      "1010                                 0.000000   \n",
      "\n",
      "      tfidf_word_count_tf_idf_word_count_6474  \\\n",
      "743                                       0.0   \n",
      "446                                       0.0   \n",
      "41                                        0.0   \n",
      "90                                        0.0   \n",
      "99                                        0.0   \n",
      "320                                       0.0   \n",
      "306                                       0.0   \n",
      "309                                       0.0   \n",
      "314                                       0.0   \n",
      "873                                       0.0   \n",
      "1021                                      0.0   \n",
      "1024                                      0.0   \n",
      "1004                                      0.0   \n",
      "991                                       0.0   \n",
      "894                                       0.0   \n",
      "1027                                      0.0   \n",
      "1012                                      0.0   \n",
      "1020                                      0.0   \n",
      "1011                                      0.0   \n",
      "1010                                      0.0   \n",
      "\n",
      "      tfidf_word_count_tf_idf_word_count_6475  \\\n",
      "743                                       0.0   \n",
      "446                                       0.0   \n",
      "41                                        0.0   \n",
      "90                                        0.0   \n",
      "99                                        0.0   \n",
      "320                                       0.0   \n",
      "306                                       0.0   \n",
      "309                                       0.0   \n",
      "314                                       0.0   \n",
      "873                                       0.0   \n",
      "1021                                      0.0   \n",
      "1024                                      0.0   \n",
      "1004                                      0.0   \n",
      "991                                       0.0   \n",
      "894                                       0.0   \n",
      "1027                                      0.0   \n",
      "1012                                      0.0   \n",
      "1020                                      0.0   \n",
      "1011                                      0.0   \n",
      "1010                                      0.0   \n",
      "\n",
      "      tfidf_word_count_tf_idf_word_count_6476  \\\n",
      "743                                       0.0   \n",
      "446                                       0.0   \n",
      "41                                        0.0   \n",
      "90                                        0.0   \n",
      "99                                        0.0   \n",
      "320                                       0.0   \n",
      "306                                       0.0   \n",
      "309                                       0.0   \n",
      "314                                       0.0   \n",
      "873                                       0.0   \n",
      "1021                                      0.0   \n",
      "1024                                      0.0   \n",
      "1004                                      0.0   \n",
      "991                                       0.0   \n",
      "894                                       0.0   \n",
      "1027                                      0.0   \n",
      "1012                                      0.0   \n",
      "1020                                      0.0   \n",
      "1011                                      0.0   \n",
      "1010                                      0.0   \n",
      "\n",
      "      tfidf_word_count_tf_idf_word_count_6477  \\\n",
      "743                                       0.0   \n",
      "446                                       0.0   \n",
      "41                                        0.0   \n",
      "90                                        0.0   \n",
      "99                                        0.0   \n",
      "320                                       0.0   \n",
      "306                                       0.0   \n",
      "309                                       0.0   \n",
      "314                                       0.0   \n",
      "873                                       0.0   \n",
      "1021                                      0.0   \n",
      "1024                                      0.0   \n",
      "1004                                      0.0   \n",
      "991                                       0.0   \n",
      "894                                       0.0   \n",
      "1027                                      0.0   \n",
      "1012                                      0.0   \n",
      "1020                                      0.0   \n",
      "1011                                      0.0   \n",
      "1010                                      0.0   \n",
      "\n",
      "      tfidf_word_count_tf_idf_word_count_6478  \\\n",
      "743                                       0.0   \n",
      "446                                       0.0   \n",
      "41                                        0.0   \n",
      "90                                        0.0   \n",
      "99                                        0.0   \n",
      "320                                       0.0   \n",
      "306                                       0.0   \n",
      "309                                       0.0   \n",
      "314                                       0.0   \n",
      "873                                       0.0   \n",
      "1021                                      0.0   \n",
      "1024                                      0.0   \n",
      "1004                                      0.0   \n",
      "991                                       0.0   \n",
      "894                                       0.0   \n",
      "1027                                      0.0   \n",
      "1012                                      0.0   \n",
      "1020                                      0.0   \n",
      "1011                                      0.0   \n",
      "1010                                      0.0   \n",
      "\n",
      "      tfidf_word_count_tf_idf_word_count_6479  \\\n",
      "743                                       0.0   \n",
      "446                                       0.0   \n",
      "41                                        0.0   \n",
      "90                                        0.0   \n",
      "99                                        0.0   \n",
      "320                                       0.0   \n",
      "306                                       0.0   \n",
      "309                                       0.0   \n",
      "314                                       0.0   \n",
      "873                                       0.0   \n",
      "1021                                      0.0   \n",
      "1024                                      0.0   \n",
      "1004                                      0.0   \n",
      "991                                       0.0   \n",
      "894                                       0.0   \n",
      "1027                                      0.0   \n",
      "1012                                      0.0   \n",
      "1020                                      0.0   \n",
      "1011                                      0.0   \n",
      "1010                                      0.0   \n",
      "\n",
      "      tfidf_word_count_tf_idf_word_count_6480  \\\n",
      "743                                       0.0   \n",
      "446                                       0.0   \n",
      "41                                        0.0   \n",
      "90                                        0.0   \n",
      "99                                        0.0   \n",
      "320                                       0.0   \n",
      "306                                       0.0   \n",
      "309                                       0.0   \n",
      "314                                       0.0   \n",
      "873                                       0.0   \n",
      "1021                                      0.0   \n",
      "1024                                      0.0   \n",
      "1004                                      0.0   \n",
      "991                                       0.0   \n",
      "894                                       0.0   \n",
      "1027                                      0.0   \n",
      "1012                                      0.0   \n",
      "1020                                      0.0   \n",
      "1011                                      0.0   \n",
      "1010                                      0.0   \n",
      "\n",
      "      tfidf_word_count_tf_idf_word_count_6481  \n",
      "743                                       0.0  \n",
      "446                                       0.0  \n",
      "41                                        0.0  \n",
      "90                                        0.0  \n",
      "99                                        0.0  \n",
      "320                                       0.0  \n",
      "306                                       0.0  \n",
      "309                                       0.0  \n",
      "314                                       0.0  \n",
      "873                                       0.0  \n",
      "1021                                      0.0  \n",
      "1024                                      0.0  \n",
      "1004                                      0.0  \n",
      "991                                       0.0  \n",
      "894                                       0.0  \n",
      "1027                                      0.0  \n",
      "1012                                      0.0  \n",
      "1020                                      0.0  \n",
      "1011                                      0.0  \n",
      "1010                                      0.0  \n",
      "\n",
      "[20 rows x 12967 columns]\n"
     ]
    }
   ],
   "source": [
    "# Get the indices of the 20 most negative reviews\n",
    "idx_most_negative = idx[:20]\n",
    "\n",
    "# Get the corresponding reviews from the test set\n",
    "most_negative_reviews = X_test.iloc[idx_most_negative]\n",
    "print(most_negative_reviews)"
   ]
  },
  {
   "cell_type": "markdown",
   "metadata": {
    "collapsed": true,
    "jupyter": {
     "outputs_hidden": true
    }
   },
   "source": [
    "**Question**: Which of the following products are represented in the 20 most negative reviews?"
   ]
  },
  {
   "cell_type": "markdown",
   "metadata": {},
   "source": [
    "Now, let's compute the classification accuracy of the **sentiment_model** on the **test_data**."
   ]
  },
  {
   "cell_type": "code",
   "execution_count": 284,
   "metadata": {},
   "outputs": [
    {
     "name": "stdout",
     "output_type": "stream",
     "text": [
      "0.9335443037974683\n"
     ]
    }
   ],
   "source": [
    "accuracy = get_classification_accuracy(predict(X_test_sentiment.to_numpy(), sentiment_model_weights, sentiment_model_bias), \n",
    "                                       np.ravel(y_test))\n",
    "print(accuracy)"
   ]
  },
  {
   "cell_type": "markdown",
   "metadata": {},
   "source": [
    "**Discussion Question**: What is the accuracy of the **sentiment_model** on the **test_data**? Round your answer to 2 decimal places (e.g. 0.76).\n",
    "\n",
    "**Discussion Question**: Does a higher accuracy value on the **training_data** always imply that the classifier is better?"
   ]
  },
  {
   "cell_type": "markdown",
   "metadata": {},
   "source": [
    "## Baseline: Majority class prediction\n",
    "\n",
    "It is quite common to use the **majority class classifier** as the a baseline (or reference) model for comparison with your classifier model. The majority classifier model predicts the majority class for all data points. At the very least, you should healthily beat the majority class classifier, otherwise, the model is (usually) pointless.\n",
    "\n",
    "What is the majority class in the **train_data**?"
   ]
  },
  {
   "cell_type": "code",
   "execution_count": 285,
   "metadata": {},
   "outputs": [
    {
     "name": "stdout",
     "output_type": "stream",
     "text": [
      "682\n",
      "55\n"
     ]
    }
   ],
   "source": [
    "num_positive = int(np.sum(y_train == +1))\n",
    "num_negative = int(np.sum(y_train == -1))\n",
    "print(num_positive)\n",
    "print(num_negative)"
   ]
  },
  {
   "cell_type": "markdown",
   "metadata": {},
   "source": [
    "Now compute the accuracy of the majority class classifier on **test_data**.\n",
    "\n",
    "**Discussion Question**: Enter the accuracy of the majority class classifier model on the **test_data**. Round your answer to two decimal places (e.g. 0.76)."
   ]
  },
  {
   "cell_type": "code",
   "execution_count": 286,
   "metadata": {
    "scrolled": true
   },
   "outputs": [
    {
     "name": "stdout",
     "output_type": "stream",
     "text": [
      "sentiment    0.933544\n",
      "dtype: float64\n"
     ]
    }
   ],
   "source": [
    "if num_positive >= num_negative:\n",
    "    y_pred = 1\n",
    "else:\n",
    "    y_pred = -1\n",
    "\n",
    "n_correct = np.sum(y_test == y_pred)\n",
    "accuracy = n_correct / len(X_test)\n",
    "print(accuracy)"
   ]
  },
  {
   "cell_type": "markdown",
   "metadata": {},
   "source": [
    "**Discussion Question**: Is the **sentiment_model** better than the majority class classifier (the baseline)?"
   ]
  },
  {
   "cell_type": "markdown",
   "metadata": {},
   "source": [
    "## Confusion Matrix\n",
    "\n",
    "The accuracy, while convenient, does not tell the whole story. For a fuller picture, we turn to the **confusion matrix**. In the case of binary classification, the confusion matrix is a 2-by-2 matrix laying out correct and incorrect predictions made in each label as follows:\n",
    "```\n",
    "              +---------------------------------------------+\n",
    "              |                Predicted label              |\n",
    "              +----------------------+----------------------+\n",
    "              |          (-1)        |         (+1)         |\n",
    "+-------+-----+----------------------+----------------------+\n",
    "| True  |(-1) | # of true negative  | # of false positive |\n",
    "| label +-----+----------------------+----------------------+\n",
    "|       |(+1) | # of false negative | # of true positive  |\n",
    "+-------+-----+----------------------+----------------------+\n",
    "```\n",
    "To print out the confusion matrix for a classifier, use `metric='confusion_matrix'`:"
   ]
  },
  {
   "cell_type": "code",
   "execution_count": 287,
   "metadata": {},
   "outputs": [
    {
     "name": "stderr",
     "output_type": "stream",
     "text": [
      "/opt/homebrew/lib/python3.9/site-packages/sklearn/base.py:402: UserWarning: X has feature names, but LogisticRegression was fitted without feature names\n",
      "  warnings.warn(\n"
     ]
    },
    {
     "data": {
      "text/plain": [
       "array([[  0,  21],\n",
       "       [  0, 295]])"
      ]
     },
     "execution_count": 287,
     "metadata": {},
     "output_type": "execute_result"
    }
   ],
   "source": [
    "from sklearn.metrics import confusion_matrix\n",
    "\n",
    "sentiment_predictions = sentiment_model.predict(X_test_sentiment.loc[:, X_test_sentiment.columns.str.startswith('tfidf_word_count_')])\n",
    "cmatrix = confusion_matrix(y_test, sentiment_predictions)\n",
    "cmatrix"
   ]
  },
  {
   "cell_type": "markdown",
   "metadata": {},
   "source": [
    "**Discussion Question**: How many predicted values in the **test set** are **false positives**?"
   ]
  },
  {
   "cell_type": "code",
   "execution_count": 288,
   "metadata": {},
   "outputs": [
    {
     "name": "stdout",
     "output_type": "stream",
     "text": [
      "There are 21 false positives\n",
      "There are 0 false negatives\n",
      "There are 295 true positives\n",
      "There are 0 true negatives\n"
     ]
    }
   ],
   "source": [
    "true_neg, false_pos, false_neg, true_pos = cmatrix.ravel()\n",
    "print('There are {} false positives'.format(false_pos))\n",
    "print('There are {} false negatives'.format(false_neg))\n",
    "print('There are {} true positives'.format(true_pos))\n",
    "print('There are {} true negatives'.format(true_neg))"
   ]
  },
  {
   "cell_type": "markdown",
   "metadata": {},
   "source": [
    "## Precision and Recall\n",
    "\n",
    "You may not have exact dollar amounts for each kind of mistake. Instead, you may simply prefer to reduce the percentage of false positives to be less than, say, 3.5% of all positive predictions. This is where **precision** comes in:\n",
    "\n",
    "$$\n",
    "Precision = \\frac{TP}{TP + FP}\n",
    "$$\n",
    "\n",
    "where\n",
    "\n",
    "* TP - true positives\n",
    "* FP - false positives"
   ]
  },
  {
   "cell_type": "markdown",
   "metadata": {},
   "source": [
    "So to keep the percentage of false positives below 3.5% of positive predictions, we must raise the precision to 96.5% or higher. \n",
    "\n",
    "**First**, let us compute the precision of the logistic regression classifier on the **test_data**."
   ]
  },
  {
   "cell_type": "code",
   "execution_count": 289,
   "metadata": {},
   "outputs": [
    {
     "name": "stdout",
     "output_type": "stream",
     "text": [
      "Precision on test data: 0.9335443037974683\n"
     ]
    }
   ],
   "source": [
    "precision = true_pos/(true_pos+false_pos)\n",
    "print(\"Precision on test data: %s\" % precision)"
   ]
  },
  {
   "cell_type": "markdown",
   "metadata": {},
   "source": [
    "**Discussion Question**: Out of all reviews in the **test set** that are predicted to be positive, what fraction of them are **false positives**? (Round to the second decimal place e.g. 0.25)"
   ]
  },
  {
   "cell_type": "code",
   "execution_count": 290,
   "metadata": {},
   "outputs": [
    {
     "data": {
      "text/plain": [
       "0.06645569620253164"
      ]
     },
     "execution_count": 290,
     "metadata": {},
     "output_type": "execute_result"
    }
   ],
   "source": [
    "false_pos / (true_pos + false_pos)"
   ]
  },
  {
   "cell_type": "markdown",
   "metadata": {},
   "source": [
    "**Discussion Question:** Based on what we learned in lecture, if we wanted to reduce this fraction of false positives to be below 3.5%, we would (select one):\n",
    "\n",
    "- Discard a sufficient number of positive predictions\n",
    "- Discard a sufficient number of negative predictins\n",
    "- Increase threshold for predicting the positive class ($y_{hat} = +1$)\n",
    "- Decrease threshold for predicting the positive class ($y_{hat} = +1$)"
   ]
  },
  {
   "cell_type": "markdown",
   "metadata": {},
   "source": [
    "A complementary metric is **recall**, which measures the ratio between the number of true positives and that of (ground-truth) positive reviews:\n",
    "\n",
    "$$\n",
    "recall = \\frac{TP}{TP + FN}\n",
    "$$\n",
    "\n",
    "where\n",
    "\n",
    "* TP - true positives\n",
    "* FP - false negatives\n",
    "* \n",
    "Let us compute the recall on the **test_data**."
   ]
  },
  {
   "cell_type": "code",
   "execution_count": 291,
   "metadata": {},
   "outputs": [
    {
     "name": "stdout",
     "output_type": "stream",
     "text": [
      "Recall on test data: 1.0\n"
     ]
    }
   ],
   "source": [
    "recall = true_pos / (true_pos + false_neg)\n",
    "print(\"Recall on test data: %s\" % recall)"
   ]
  },
  {
   "cell_type": "markdown",
   "metadata": {},
   "source": [
    "**Discussion Question**: What fraction of the positive reviews in the **test_set** were correctly predicted as positive by the classifier?\n",
    "\n",
    "**Discussion Question**: What is the recall value for a classifier that predicts **+1** for all data points in the **test_data**?"
   ]
  },
  {
   "cell_type": "code",
   "execution_count": 292,
   "metadata": {},
   "outputs": [
    {
     "data": {
      "text/plain": [
       "1.0"
      ]
     },
     "execution_count": 292,
     "metadata": {},
     "output_type": "execute_result"
    }
   ],
   "source": [
    "true_pos / (true_pos + false_neg)"
   ]
  },
  {
   "cell_type": "markdown",
   "metadata": {},
   "source": [
    "# Precision-recall tradeoff\n",
    "\n",
    "In this part, we will explore the trade-off between precision and recall discussed in the lecture.  We first examine what happens when we use a different threshold value for making class predictions.  We then explore a range of threshold values and plot the associated precision-recall curve.  \n"
   ]
  },
  {
   "cell_type": "markdown",
   "metadata": {},
   "source": [
    "## Varying the threshold\n",
    "\n",
    "False positives are costly in our example, so we may want to be more conservative about making positive predictions. To achieve this, instead of thresholding class probabilities at 0.5, we can choose a higher threshold. \n",
    "\n",
    "Write a function called `apply_threshold` that accepts two things\n",
    "* `probabilities` (probability values of positive sentiment)\n",
    "* `threshold` (a float between 0 and 1).\n",
    "\n",
    "The function should return an SArray, where each element is set to +1 or -1 depending whether the corresponding probability exceeds `threshold`."
   ]
  },
  {
   "cell_type": "code",
   "execution_count": 293,
   "metadata": {},
   "outputs": [],
   "source": [
    "def apply_threshold(probabilities, threshold):\n",
    "    # +1 if >= threshold and -1 otherwise.\n",
    "    return np.array([1 if p >= threshold else -1 for p in probabilities])"
   ]
  },
  {
   "cell_type": "markdown",
   "metadata": {},
   "source": [
    "Run prediction with `output_type='probability'` to get the list of probability values. Then use thresholds set at 0.5 (default) and 0.9 to make predictions from these probability values."
   ]
  },
  {
   "cell_type": "code",
   "execution_count": 294,
   "metadata": {},
   "outputs": [],
   "source": [
    "probabilities = predict_probability(X_test_sentiment.to_numpy(), sentiment_model_weights)\n",
    "\n",
    "predictions_with_default_threshold = apply_threshold(probabilities, 0.5)\n",
    "\n",
    "predictions_with_high_threshold = apply_threshold(probabilities, 0.9)"
   ]
  },
  {
   "cell_type": "code",
   "execution_count": 295,
   "metadata": {},
   "outputs": [
    {
     "name": "stdout",
     "output_type": "stream",
     "text": [
      "[1 1 1 1 1 1 1 1 1 1 1 1 1 1 1 1 1 1 1 1 1 1 1 1 1 1 1 1 1 1 1 1 1 1 1 1 1\n",
      " 1 1 1 1 1 1 1 1 1 1 1 1 1 1 1 1 1 1 1 1 1 1 1 1 1 1 1 1 1 1 1 1 1 1 1 1 1\n",
      " 1 1 1 1 1 1 1 1 1 1 1 1 1 1 1 1 1 1 1 1 1 1 1 1 1 1 1 1 1 1 1 1 1 1 1 1 1\n",
      " 1 1 1 1 1 1 1 1 1 1 1 1 1 1 1 1 1 1 1 1 1 1 1 1 1 1 1 1 1 1 1 1 1 1 1 1 1\n",
      " 1 1 1 1 1 1 1 1 1 1 1 1 1 1 1 1 1 1 1 1 1 1 1 1 1 1 1 1 1 1 1 1 1 1 1 1 1\n",
      " 1 1 1 1 1 1 1 1 1 1 1 1 1 1 1 1 1 1 1 1 1 1 1 1 1 1 1 1 1 1 1 1 1 1 1 1 1\n",
      " 1 1 1 1 1 1 1 1 1 1 1 1 1 1 1 1 1 1 1 1 1 1 1 1 1 1 1 1 1 1 1 1 1 1 1 1 1\n",
      " 1 1 1 1 1 1 1 1 1 1 1 1 1 1 1 1 1 1 1 1 1 1 1 1 1 1 1 1 1 1 1 1 1 1 1 1 1\n",
      " 1 1 1 1 1 1 1 1 1 1 1 1 1 1 1 1 1 1 1 1]\n"
     ]
    }
   ],
   "source": [
    "print(predictions_with_default_threshold)"
   ]
  },
  {
   "cell_type": "code",
   "execution_count": 296,
   "metadata": {},
   "outputs": [
    {
     "name": "stdout",
     "output_type": "stream",
     "text": [
      "Number of positive predicted reviews (threshold = 0.5): 316\n"
     ]
    }
   ],
   "source": [
    "print(\"Number of positive predicted reviews (threshold = 0.5): %s\" % (predictions_with_default_threshold == 1).sum())"
   ]
  },
  {
   "cell_type": "code",
   "execution_count": 297,
   "metadata": {},
   "outputs": [
    {
     "name": "stdout",
     "output_type": "stream",
     "text": [
      "Number of positive predicted reviews (threshold = 0.9): 0\n"
     ]
    }
   ],
   "source": [
    "print(\"Number of positive predicted reviews (threshold = 0.9): %s\" % (predictions_with_high_threshold == 1).sum())"
   ]
  },
  {
   "cell_type": "markdown",
   "metadata": {},
   "source": [
    "**Discussion Question**: What happens to the number of positive predicted reviews as the threshold increased from 0.5 to 0.9?"
   ]
  },
  {
   "cell_type": "markdown",
   "metadata": {},
   "source": [
    "## Exploring the associated precision and recall as the threshold varies"
   ]
  },
  {
   "cell_type": "markdown",
   "metadata": {},
   "source": [
    "By changing the probability threshold, it is possible to influence precision and recall. We can explore this as follows:"
   ]
  },
  {
   "cell_type": "code",
   "execution_count": 298,
   "metadata": {},
   "outputs": [],
   "source": [
    "from sklearn.metrics import recall_score, precision_score"
   ]
  },
  {
   "cell_type": "code",
   "execution_count": 299,
   "metadata": {},
   "outputs": [],
   "source": [
    "# Threshold = 0.5\n",
    "precision_with_default_threshold = precision_score(\n",
    "    y_test, predictions_with_default_threshold)\n",
    "\n",
    "recall_with_default_threshold = recall_score(\n",
    "    y_test, predictions_with_default_threshold\n",
    ")\n",
    "\n",
    "# Threshold = 0.9\n",
    "precision_with_high_threshold = precision_score(\n",
    "    y_test, predictions_with_high_threshold, zero_division=1)\n",
    "\n",
    "recall_with_high_threshold = recall_score(\n",
    "    y_test, predictions_with_high_threshold\n",
    ")"
   ]
  },
  {
   "cell_type": "code",
   "execution_count": 300,
   "metadata": {},
   "outputs": [
    {
     "name": "stdout",
     "output_type": "stream",
     "text": [
      "Precision (threshold = 0.5): 0.9335443037974683\n",
      "Recall (threshold = 0.5)   : 1.0\n"
     ]
    }
   ],
   "source": [
    "print(\"Precision (threshold = 0.5): %s\" % precision_with_default_threshold)\n",
    "print(\"Recall (threshold = 0.5)   : %s\" % recall_with_default_threshold)"
   ]
  },
  {
   "cell_type": "code",
   "execution_count": 301,
   "metadata": {},
   "outputs": [
    {
     "name": "stdout",
     "output_type": "stream",
     "text": [
      "Precision (threshold = 0.9): 1.0\n",
      "Recall (threshold = 0.9)   : 0.0\n"
     ]
    }
   ],
   "source": [
    "print(\"Precision (threshold = 0.9): %s\" % precision_with_high_threshold)\n",
    "print(\"Recall (threshold = 0.9)   : %s\" % recall_with_high_threshold)"
   ]
  },
  {
   "cell_type": "markdown",
   "metadata": {},
   "source": [
    "**Discussion Question (variant 1)**: Does the **precision** increase with a higher threshold?\n",
    "\n",
    "**Discussion Question (variant 2)**: Does the **recall** increase with a higher threshold?"
   ]
  },
  {
   "cell_type": "markdown",
   "metadata": {},
   "source": [
    "## Precision-recall curve\n",
    "\n",
    "Now, we will explore various different values of tresholds, compute the precision and recall scores, and then plot the precision-recall curve."
   ]
  },
  {
   "cell_type": "code",
   "execution_count": 302,
   "metadata": {},
   "outputs": [],
   "source": [
    "threshold_values = np.linspace(0.5, 1, num=100)"
   ]
  },
  {
   "cell_type": "markdown",
   "metadata": {},
   "source": [
    "For each of the values of threshold, we compute the precision and recall scores."
   ]
  },
  {
   "cell_type": "code",
   "execution_count": 303,
   "metadata": {},
   "outputs": [],
   "source": [
    "precision_all = []\n",
    "recall_all = []\n",
    "\n",
    "probabilities = predict_probability(X_test_sentiment.to_numpy(), sentiment_model_weights)\n",
    "for threshold in threshold_values:\n",
    "    predictions = apply_threshold(probabilities, threshold)\n",
    "\n",
    "    precision = precision_score(y_test, predictions, zero_division=1)\n",
    "\n",
    "    recall = recall_score(y_test, predictions)\n",
    "    \n",
    "    precision_all.append(precision)\n",
    "    recall_all.append(recall)"
   ]
  },
  {
   "cell_type": "markdown",
   "metadata": {},
   "source": [
    "Now, let's plot the precision-recall curve to visualize the precision-recall tradeoff as we vary the threshold."
   ]
  },
  {
   "cell_type": "code",
   "execution_count": 304,
   "metadata": {},
   "outputs": [],
   "source": [
    "import matplotlib.pyplot as plt\n",
    "%matplotlib inline\n",
    "\n",
    "def plot_pr_curve(precision, recall, title):\n",
    "    plt.rcParams['figure.figsize'] = 7, 5\n",
    "    plt.locator_params(axis = 'x', nbins = 5)\n",
    "    plt.plot(recall, precision, 'b-', linewidth=4.0, color = '#B0017F')\n",
    "    plt.title(title)\n",
    "    plt.ylabel('Precision')\n",
    "    plt.xlabel('Recall')\n",
    "    plt.rcParams.update({'font.size': 16})"
   ]
  },
  {
   "cell_type": "code",
   "execution_count": 305,
   "metadata": {},
   "outputs": [
    {
     "name": "stderr",
     "output_type": "stream",
     "text": [
      "/var/folders/6c/sgccp3hn0n5f2v4fcrxvyjn80000gn/T/ipykernel_40957/2027353810.py:7: UserWarning: color is redundantly defined by the 'color' keyword argument and the fmt string \"b-\" (-> color='b'). The keyword argument will take precedence.\n",
      "  plt.plot(recall, precision, 'b-', linewidth=4.0, color = '#B0017F')\n"
     ]
    },
    {
     "data": {
      "image/png": "[encoded data removed]",
      "text/plain": [
       "<Figure size 700x500 with 1 Axes>"
      ]
     },
     "metadata": {},
     "output_type": "display_data"
    }
   ],
   "source": [
    "plot_pr_curve(precision_all, recall_all, 'Precision recall curve (all)')"
   ]
  },
  {
   "cell_type": "markdown",
   "metadata": {},
   "source": [
    "**Discussion Question**: Among all the threshold values tried, what is the **smallest** threshold value that achieves a precision of 96.5% or better? Round your answer to 3 decimal places."
   ]
  },
  {
   "cell_type": "code",
   "execution_count": 306,
   "metadata": {},
   "outputs": [
    {
     "name": "stdout",
     "output_type": "stream",
     "text": [
      "0.5050505050505051\n"
     ]
    }
   ],
   "source": [
    "for idx, precision in enumerate(precision_all):\n",
    "    if precision >= 0.965:\n",
    "        print(threshold_values[idx])\n",
    "        break"
   ]
  },
  {
   "cell_type": "markdown",
   "metadata": {},
   "source": [
    "**Discussion Question**: Using `threshold` = 0.98, how many **false negatives** do we get on the **test_data**? (**Hint**: You may use the Sklearn precision and recall functions.)"
   ]
  },
  {
   "cell_type": "code",
   "execution_count": 307,
   "metadata": {},
   "outputs": [
    {
     "data": {
      "text/plain": [
       "295"
      ]
     },
     "execution_count": 307,
     "metadata": {},
     "output_type": "execute_result"
    }
   ],
   "source": [
    "predictions = apply_threshold(probabilities, 0.949)\n",
    "cm = confusion_matrix(y_test, predictions)\n",
    "cm[1][0]"
   ]
  },
  {
   "cell_type": "markdown",
   "metadata": {},
   "source": [
    "This is the number of false negatives (i.e the number of reviews to look at when not needed) that we have to deal with using this classifier."
   ]
  },
  {
   "cell_type": "code",
   "execution_count": null,
   "metadata": {},
   "outputs": [],
   "source": []
  },
  {
   "cell_type": "code",
   "execution_count": null,
   "metadata": {},
   "outputs": [],
   "source": []
  },
  {
   "cell_type": "code",
   "execution_count": null,
   "metadata": {},
   "outputs": [],
   "source": []
  }
 ],
 "metadata": {
  "kernelspec": {
   "display_name": "Python 3 (ipykernel)",
   "language": "python",
   "name": "python3"
  },
  "language_info": {
   "codemirror_mode": {
    "name": "ipython",
    "version": 3
   },
   "file_extension": ".py",
   "mimetype": "text/x-python",
   "name": "python",
   "nbconvert_exporter": "python",
   "pygments_lexer": "ipython3",
   "version": "3.9.10"
  },
  "vscode": {
   "interpreter": {
    "hash": "85463d1bb2888979eba71184c8d462df281b59dd3aecce6d9ffe8745b11b3329"
   }
  }
 },
 "nbformat": 4,
 "nbformat_minor": 4
}
